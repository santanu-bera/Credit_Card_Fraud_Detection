{
 "cells": [
  {
   "cell_type": "code",
   "execution_count": 1,
   "id": "62a8aed4",
   "metadata": {
    "executionInfo": {
     "elapsed": 1764,
     "status": "ok",
     "timestamp": 1693371076468,
     "user": {
      "displayName": "Alok Ranjan",
      "userId": "03075680414805425723"
     },
     "user_tz": -330
    },
    "id": "62a8aed4"
   },
   "outputs": [],
   "source": [
    "import pandas as pd\n",
    "data=pd.read_csv(\"creditcardfraud.csv\")"
   ]
  },
  {
   "cell_type": "code",
   "execution_count": 2,
   "id": "61dac47a",
   "metadata": {
    "colab": {
     "base_uri": "https://localhost:8080/",
     "height": 549
    },
    "executionInfo": {
     "elapsed": 12,
     "status": "ok",
     "timestamp": 1693371080125,
     "user": {
      "displayName": "Alok Ranjan",
      "userId": "03075680414805425723"
     },
     "user_tz": -330
    },
    "id": "61dac47a",
    "outputId": "3a92ee25-ede3-4ceb-fa14-0d30048e81b6"
   },
   "outputs": [
    {
     "data": {
      "text/html": [
       "<div>\n",
       "<style scoped>\n",
       "    .dataframe tbody tr th:only-of-type {\n",
       "        vertical-align: middle;\n",
       "    }\n",
       "\n",
       "    .dataframe tbody tr th {\n",
       "        vertical-align: top;\n",
       "    }\n",
       "\n",
       "    .dataframe thead th {\n",
       "        text-align: right;\n",
       "    }\n",
       "</style>\n",
       "<table border=\"1\" class=\"dataframe\">\n",
       "  <thead>\n",
       "    <tr style=\"text-align: right;\">\n",
       "      <th></th>\n",
       "      <th>LIMIT_BAL</th>\n",
       "      <th>SEX</th>\n",
       "      <th>EDUCATION</th>\n",
       "      <th>MARRIAGE</th>\n",
       "      <th>AGE</th>\n",
       "      <th>PAY_0</th>\n",
       "      <th>PAY_2</th>\n",
       "      <th>PAY_3</th>\n",
       "      <th>PAY_4</th>\n",
       "      <th>PAY_5</th>\n",
       "      <th>...</th>\n",
       "      <th>BILL_AMT4</th>\n",
       "      <th>BILL_AMT5</th>\n",
       "      <th>BILL_AMT6</th>\n",
       "      <th>PAY_AMT1</th>\n",
       "      <th>PAY_AMT2</th>\n",
       "      <th>PAY_AMT3</th>\n",
       "      <th>PAY_AMT4</th>\n",
       "      <th>PAY_AMT5</th>\n",
       "      <th>PAY_AMT6</th>\n",
       "      <th>default payment next month</th>\n",
       "    </tr>\n",
       "  </thead>\n",
       "  <tbody>\n",
       "    <tr>\n",
       "      <th>0</th>\n",
       "      <td>50000</td>\n",
       "      <td>1</td>\n",
       "      <td>2</td>\n",
       "      <td>1</td>\n",
       "      <td>57</td>\n",
       "      <td>-1</td>\n",
       "      <td>0</td>\n",
       "      <td>-1</td>\n",
       "      <td>0</td>\n",
       "      <td>0</td>\n",
       "      <td>...</td>\n",
       "      <td>20940</td>\n",
       "      <td>19146</td>\n",
       "      <td>19131</td>\n",
       "      <td>2000</td>\n",
       "      <td>36681</td>\n",
       "      <td>10000</td>\n",
       "      <td>9000</td>\n",
       "      <td>689</td>\n",
       "      <td>679</td>\n",
       "      <td>0</td>\n",
       "    </tr>\n",
       "    <tr>\n",
       "      <th>1</th>\n",
       "      <td>50000</td>\n",
       "      <td>1</td>\n",
       "      <td>1</td>\n",
       "      <td>2</td>\n",
       "      <td>37</td>\n",
       "      <td>0</td>\n",
       "      <td>0</td>\n",
       "      <td>0</td>\n",
       "      <td>0</td>\n",
       "      <td>0</td>\n",
       "      <td>...</td>\n",
       "      <td>19394</td>\n",
       "      <td>19619</td>\n",
       "      <td>20024</td>\n",
       "      <td>2500</td>\n",
       "      <td>1815</td>\n",
       "      <td>657</td>\n",
       "      <td>1000</td>\n",
       "      <td>1000</td>\n",
       "      <td>800</td>\n",
       "      <td>0</td>\n",
       "    </tr>\n",
       "    <tr>\n",
       "      <th>2</th>\n",
       "      <td>500000</td>\n",
       "      <td>1</td>\n",
       "      <td>1</td>\n",
       "      <td>2</td>\n",
       "      <td>29</td>\n",
       "      <td>0</td>\n",
       "      <td>0</td>\n",
       "      <td>0</td>\n",
       "      <td>0</td>\n",
       "      <td>0</td>\n",
       "      <td>...</td>\n",
       "      <td>542653</td>\n",
       "      <td>483003</td>\n",
       "      <td>473944</td>\n",
       "      <td>55000</td>\n",
       "      <td>40000</td>\n",
       "      <td>38000</td>\n",
       "      <td>20239</td>\n",
       "      <td>13750</td>\n",
       "      <td>13770</td>\n",
       "      <td>0</td>\n",
       "    </tr>\n",
       "    <tr>\n",
       "      <th>3</th>\n",
       "      <td>100000</td>\n",
       "      <td>2</td>\n",
       "      <td>2</td>\n",
       "      <td>2</td>\n",
       "      <td>23</td>\n",
       "      <td>0</td>\n",
       "      <td>-1</td>\n",
       "      <td>-1</td>\n",
       "      <td>0</td>\n",
       "      <td>0</td>\n",
       "      <td>...</td>\n",
       "      <td>221</td>\n",
       "      <td>-159</td>\n",
       "      <td>567</td>\n",
       "      <td>380</td>\n",
       "      <td>601</td>\n",
       "      <td>0</td>\n",
       "      <td>581</td>\n",
       "      <td>1687</td>\n",
       "      <td>1542</td>\n",
       "      <td>0</td>\n",
       "    </tr>\n",
       "    <tr>\n",
       "      <th>4</th>\n",
       "      <td>140000</td>\n",
       "      <td>2</td>\n",
       "      <td>3</td>\n",
       "      <td>1</td>\n",
       "      <td>28</td>\n",
       "      <td>0</td>\n",
       "      <td>0</td>\n",
       "      <td>2</td>\n",
       "      <td>0</td>\n",
       "      <td>0</td>\n",
       "      <td>...</td>\n",
       "      <td>12211</td>\n",
       "      <td>11793</td>\n",
       "      <td>3719</td>\n",
       "      <td>3329</td>\n",
       "      <td>0</td>\n",
       "      <td>432</td>\n",
       "      <td>1000</td>\n",
       "      <td>1000</td>\n",
       "      <td>1000</td>\n",
       "      <td>0</td>\n",
       "    </tr>\n",
       "    <tr>\n",
       "      <th>5</th>\n",
       "      <td>20000</td>\n",
       "      <td>1</td>\n",
       "      <td>3</td>\n",
       "      <td>2</td>\n",
       "      <td>35</td>\n",
       "      <td>-2</td>\n",
       "      <td>-2</td>\n",
       "      <td>-2</td>\n",
       "      <td>-2</td>\n",
       "      <td>-1</td>\n",
       "      <td>...</td>\n",
       "      <td>0</td>\n",
       "      <td>13007</td>\n",
       "      <td>13912</td>\n",
       "      <td>0</td>\n",
       "      <td>0</td>\n",
       "      <td>0</td>\n",
       "      <td>13007</td>\n",
       "      <td>1122</td>\n",
       "      <td>0</td>\n",
       "      <td>0</td>\n",
       "    </tr>\n",
       "    <tr>\n",
       "      <th>6</th>\n",
       "      <td>200000</td>\n",
       "      <td>2</td>\n",
       "      <td>3</td>\n",
       "      <td>2</td>\n",
       "      <td>34</td>\n",
       "      <td>0</td>\n",
       "      <td>0</td>\n",
       "      <td>2</td>\n",
       "      <td>0</td>\n",
       "      <td>0</td>\n",
       "      <td>...</td>\n",
       "      <td>2513</td>\n",
       "      <td>1828</td>\n",
       "      <td>3731</td>\n",
       "      <td>2306</td>\n",
       "      <td>12</td>\n",
       "      <td>50</td>\n",
       "      <td>300</td>\n",
       "      <td>3738</td>\n",
       "      <td>66</td>\n",
       "      <td>0</td>\n",
       "    </tr>\n",
       "    <tr>\n",
       "      <th>7</th>\n",
       "      <td>260000</td>\n",
       "      <td>2</td>\n",
       "      <td>1</td>\n",
       "      <td>2</td>\n",
       "      <td>51</td>\n",
       "      <td>-1</td>\n",
       "      <td>-1</td>\n",
       "      <td>-1</td>\n",
       "      <td>-1</td>\n",
       "      <td>-1</td>\n",
       "      <td>...</td>\n",
       "      <td>8517</td>\n",
       "      <td>22287</td>\n",
       "      <td>13668</td>\n",
       "      <td>21818</td>\n",
       "      <td>9966</td>\n",
       "      <td>8583</td>\n",
       "      <td>22301</td>\n",
       "      <td>0</td>\n",
       "      <td>3640</td>\n",
       "      <td>0</td>\n",
       "    </tr>\n",
       "    <tr>\n",
       "      <th>8</th>\n",
       "      <td>630000</td>\n",
       "      <td>2</td>\n",
       "      <td>2</td>\n",
       "      <td>2</td>\n",
       "      <td>41</td>\n",
       "      <td>-1</td>\n",
       "      <td>0</td>\n",
       "      <td>-1</td>\n",
       "      <td>-1</td>\n",
       "      <td>-1</td>\n",
       "      <td>...</td>\n",
       "      <td>6500</td>\n",
       "      <td>6500</td>\n",
       "      <td>2870</td>\n",
       "      <td>1000</td>\n",
       "      <td>6500</td>\n",
       "      <td>6500</td>\n",
       "      <td>6500</td>\n",
       "      <td>2870</td>\n",
       "      <td>0</td>\n",
       "      <td>0</td>\n",
       "    </tr>\n",
       "    <tr>\n",
       "      <th>9</th>\n",
       "      <td>70000</td>\n",
       "      <td>1</td>\n",
       "      <td>2</td>\n",
       "      <td>2</td>\n",
       "      <td>30</td>\n",
       "      <td>1</td>\n",
       "      <td>2</td>\n",
       "      <td>2</td>\n",
       "      <td>0</td>\n",
       "      <td>0</td>\n",
       "      <td>...</td>\n",
       "      <td>66782</td>\n",
       "      <td>36137</td>\n",
       "      <td>36894</td>\n",
       "      <td>3200</td>\n",
       "      <td>0</td>\n",
       "      <td>3000</td>\n",
       "      <td>3000</td>\n",
       "      <td>1500</td>\n",
       "      <td>0</td>\n",
       "      <td>1</td>\n",
       "    </tr>\n",
       "    <tr>\n",
       "      <th>10</th>\n",
       "      <td>250000</td>\n",
       "      <td>1</td>\n",
       "      <td>1</td>\n",
       "      <td>2</td>\n",
       "      <td>29</td>\n",
       "      <td>0</td>\n",
       "      <td>0</td>\n",
       "      <td>0</td>\n",
       "      <td>0</td>\n",
       "      <td>0</td>\n",
       "      <td>...</td>\n",
       "      <td>59696</td>\n",
       "      <td>56875</td>\n",
       "      <td>55512</td>\n",
       "      <td>3000</td>\n",
       "      <td>3000</td>\n",
       "      <td>3000</td>\n",
       "      <td>3000</td>\n",
       "      <td>3000</td>\n",
       "      <td>3000</td>\n",
       "      <td>0</td>\n",
       "    </tr>\n",
       "    <tr>\n",
       "      <th>11</th>\n",
       "      <td>50000</td>\n",
       "      <td>2</td>\n",
       "      <td>3</td>\n",
       "      <td>3</td>\n",
       "      <td>23</td>\n",
       "      <td>1</td>\n",
       "      <td>2</td>\n",
       "      <td>0</td>\n",
       "      <td>0</td>\n",
       "      <td>0</td>\n",
       "      <td>...</td>\n",
       "      <td>28771</td>\n",
       "      <td>29531</td>\n",
       "      <td>30211</td>\n",
       "      <td>0</td>\n",
       "      <td>1500</td>\n",
       "      <td>1100</td>\n",
       "      <td>1200</td>\n",
       "      <td>1300</td>\n",
       "      <td>1100</td>\n",
       "      <td>0</td>\n",
       "    </tr>\n",
       "    <tr>\n",
       "      <th>12</th>\n",
       "      <td>20000</td>\n",
       "      <td>1</td>\n",
       "      <td>1</td>\n",
       "      <td>2</td>\n",
       "      <td>24</td>\n",
       "      <td>0</td>\n",
       "      <td>0</td>\n",
       "      <td>2</td>\n",
       "      <td>2</td>\n",
       "      <td>2</td>\n",
       "      <td>...</td>\n",
       "      <td>18338</td>\n",
       "      <td>17905</td>\n",
       "      <td>19104</td>\n",
       "      <td>3200</td>\n",
       "      <td>0</td>\n",
       "      <td>1500</td>\n",
       "      <td>0</td>\n",
       "      <td>1650</td>\n",
       "      <td>0</td>\n",
       "      <td>1</td>\n",
       "    </tr>\n",
       "    <tr>\n",
       "      <th>13</th>\n",
       "      <td>320000</td>\n",
       "      <td>1</td>\n",
       "      <td>1</td>\n",
       "      <td>1</td>\n",
       "      <td>49</td>\n",
       "      <td>0</td>\n",
       "      <td>0</td>\n",
       "      <td>0</td>\n",
       "      <td>-1</td>\n",
       "      <td>-1</td>\n",
       "      <td>...</td>\n",
       "      <td>70074</td>\n",
       "      <td>5856</td>\n",
       "      <td>195599</td>\n",
       "      <td>10358</td>\n",
       "      <td>10000</td>\n",
       "      <td>75940</td>\n",
       "      <td>20000</td>\n",
       "      <td>195599</td>\n",
       "      <td>50000</td>\n",
       "      <td>0</td>\n",
       "    </tr>\n",
       "    <tr>\n",
       "      <th>14</th>\n",
       "      <td>360000</td>\n",
       "      <td>2</td>\n",
       "      <td>1</td>\n",
       "      <td>1</td>\n",
       "      <td>49</td>\n",
       "      <td>1</td>\n",
       "      <td>-2</td>\n",
       "      <td>-2</td>\n",
       "      <td>-2</td>\n",
       "      <td>-2</td>\n",
       "      <td>...</td>\n",
       "      <td>0</td>\n",
       "      <td>0</td>\n",
       "      <td>0</td>\n",
       "      <td>0</td>\n",
       "      <td>0</td>\n",
       "      <td>0</td>\n",
       "      <td>0</td>\n",
       "      <td>0</td>\n",
       "      <td>0</td>\n",
       "      <td>0</td>\n",
       "    </tr>\n",
       "  </tbody>\n",
       "</table>\n",
       "<p>15 rows × 24 columns</p>\n",
       "</div>"
      ],
      "text/plain": [
       "    LIMIT_BAL  SEX  EDUCATION  MARRIAGE  AGE  PAY_0  PAY_2  PAY_3  PAY_4  \\\n",
       "0       50000    1          2         1   57     -1      0     -1      0   \n",
       "1       50000    1          1         2   37      0      0      0      0   \n",
       "2      500000    1          1         2   29      0      0      0      0   \n",
       "3      100000    2          2         2   23      0     -1     -1      0   \n",
       "4      140000    2          3         1   28      0      0      2      0   \n",
       "5       20000    1          3         2   35     -2     -2     -2     -2   \n",
       "6      200000    2          3         2   34      0      0      2      0   \n",
       "7      260000    2          1         2   51     -1     -1     -1     -1   \n",
       "8      630000    2          2         2   41     -1      0     -1     -1   \n",
       "9       70000    1          2         2   30      1      2      2      0   \n",
       "10     250000    1          1         2   29      0      0      0      0   \n",
       "11      50000    2          3         3   23      1      2      0      0   \n",
       "12      20000    1          1         2   24      0      0      2      2   \n",
       "13     320000    1          1         1   49      0      0      0     -1   \n",
       "14     360000    2          1         1   49      1     -2     -2     -2   \n",
       "\n",
       "    PAY_5  ...  BILL_AMT4  BILL_AMT5  BILL_AMT6  PAY_AMT1  PAY_AMT2  PAY_AMT3  \\\n",
       "0       0  ...      20940      19146      19131      2000     36681     10000   \n",
       "1       0  ...      19394      19619      20024      2500      1815       657   \n",
       "2       0  ...     542653     483003     473944     55000     40000     38000   \n",
       "3       0  ...        221       -159        567       380       601         0   \n",
       "4       0  ...      12211      11793       3719      3329         0       432   \n",
       "5      -1  ...          0      13007      13912         0         0         0   \n",
       "6       0  ...       2513       1828       3731      2306        12        50   \n",
       "7      -1  ...       8517      22287      13668     21818      9966      8583   \n",
       "8      -1  ...       6500       6500       2870      1000      6500      6500   \n",
       "9       0  ...      66782      36137      36894      3200         0      3000   \n",
       "10      0  ...      59696      56875      55512      3000      3000      3000   \n",
       "11      0  ...      28771      29531      30211         0      1500      1100   \n",
       "12      2  ...      18338      17905      19104      3200         0      1500   \n",
       "13     -1  ...      70074       5856     195599     10358     10000     75940   \n",
       "14     -2  ...          0          0          0         0         0         0   \n",
       "\n",
       "    PAY_AMT4  PAY_AMT5  PAY_AMT6  default payment next month  \n",
       "0       9000       689       679                           0  \n",
       "1       1000      1000       800                           0  \n",
       "2      20239     13750     13770                           0  \n",
       "3        581      1687      1542                           0  \n",
       "4       1000      1000      1000                           0  \n",
       "5      13007      1122         0                           0  \n",
       "6        300      3738        66                           0  \n",
       "7      22301         0      3640                           0  \n",
       "8       6500      2870         0                           0  \n",
       "9       3000      1500         0                           1  \n",
       "10      3000      3000      3000                           0  \n",
       "11      1200      1300      1100                           0  \n",
       "12         0      1650         0                           1  \n",
       "13     20000    195599     50000                           0  \n",
       "14         0         0         0                           0  \n",
       "\n",
       "[15 rows x 24 columns]"
      ]
     },
     "execution_count": 2,
     "metadata": {},
     "output_type": "execute_result"
    }
   ],
   "source": [
    "data.head(15)"
   ]
  },
  {
   "cell_type": "code",
   "execution_count": 3,
   "id": "b7380d1d",
   "metadata": {
    "colab": {
     "base_uri": "https://localhost:8080/",
     "height": 175
    },
    "executionInfo": {
     "elapsed": 1765,
     "status": "error",
     "timestamp": 1693391590314,
     "user": {
      "displayName": "Alok Ranjan",
      "userId": "03075680414805425723"
     },
     "user_tz": -330
    },
    "id": "b7380d1d",
    "outputId": "8aabaf07-d961-4a2f-e7ec-1bc734242761"
   },
   "outputs": [
    {
     "data": {
      "text/plain": [
       "Index(['LIMIT_BAL', 'SEX', 'EDUCATION', 'MARRIAGE', 'AGE', 'PAY_0', 'PAY_2',\n",
       "       'PAY_3', 'PAY_4', 'PAY_5', 'PAY_6', 'BILL_AMT1', 'BILL_AMT2',\n",
       "       'BILL_AMT3', 'BILL_AMT4', 'BILL_AMT5', 'BILL_AMT6', 'PAY_AMT1',\n",
       "       'PAY_AMT2', 'PAY_AMT3', 'PAY_AMT4', 'PAY_AMT5', 'PAY_AMT6',\n",
       "       'default payment next month'],\n",
       "      dtype='object')"
      ]
     },
     "execution_count": 3,
     "metadata": {},
     "output_type": "execute_result"
    }
   ],
   "source": [
    "data.columns"
   ]
  },
  {
   "cell_type": "code",
   "execution_count": 4,
   "id": "2d26241c",
   "metadata": {
    "executionInfo": {
     "elapsed": 14,
     "status": "aborted",
     "timestamp": 1693391590316,
     "user": {
      "displayName": "Alok Ranjan",
      "userId": "03075680414805425723"
     },
     "user_tz": -330
    },
    "id": "2d26241c"
   },
   "outputs": [
    {
     "name": "stdout",
     "output_type": "stream",
     "text": [
      "<class 'pandas.core.frame.DataFrame'>\n",
      "RangeIndex: 1001 entries, 0 to 1000\n",
      "Data columns (total 24 columns):\n",
      " #   Column                      Non-Null Count  Dtype\n",
      "---  ------                      --------------  -----\n",
      " 0   LIMIT_BAL                   1001 non-null   int64\n",
      " 1   SEX                         1001 non-null   int64\n",
      " 2   EDUCATION                   1001 non-null   int64\n",
      " 3   MARRIAGE                    1001 non-null   int64\n",
      " 4   AGE                         1001 non-null   int64\n",
      " 5   PAY_0                       1001 non-null   int64\n",
      " 6   PAY_2                       1001 non-null   int64\n",
      " 7   PAY_3                       1001 non-null   int64\n",
      " 8   PAY_4                       1001 non-null   int64\n",
      " 9   PAY_5                       1001 non-null   int64\n",
      " 10  PAY_6                       1001 non-null   int64\n",
      " 11  BILL_AMT1                   1001 non-null   int64\n",
      " 12  BILL_AMT2                   1001 non-null   int64\n",
      " 13  BILL_AMT3                   1001 non-null   int64\n",
      " 14  BILL_AMT4                   1001 non-null   int64\n",
      " 15  BILL_AMT5                   1001 non-null   int64\n",
      " 16  BILL_AMT6                   1001 non-null   int64\n",
      " 17  PAY_AMT1                    1001 non-null   int64\n",
      " 18  PAY_AMT2                    1001 non-null   int64\n",
      " 19  PAY_AMT3                    1001 non-null   int64\n",
      " 20  PAY_AMT4                    1001 non-null   int64\n",
      " 21  PAY_AMT5                    1001 non-null   int64\n",
      " 22  PAY_AMT6                    1001 non-null   int64\n",
      " 23  default payment next month  1001 non-null   int64\n",
      "dtypes: int64(24)\n",
      "memory usage: 187.8 KB\n"
     ]
    }
   ],
   "source": [
    "data.info()"
   ]
  },
  {
   "cell_type": "code",
   "execution_count": 5,
   "id": "dc005356",
   "metadata": {
    "executionInfo": {
     "elapsed": 21,
     "status": "aborted",
     "timestamp": 1693391590323,
     "user": {
      "displayName": "Alok Ranjan",
      "userId": "03075680414805425723"
     },
     "user_tz": -330
    },
    "id": "dc005356"
   },
   "outputs": [
    {
     "data": {
      "text/plain": [
       "LIMIT_BAL                     0\n",
       "SEX                           0\n",
       "EDUCATION                     0\n",
       "MARRIAGE                      0\n",
       "AGE                           0\n",
       "PAY_0                         0\n",
       "PAY_2                         0\n",
       "PAY_3                         0\n",
       "PAY_4                         0\n",
       "PAY_5                         0\n",
       "PAY_6                         0\n",
       "BILL_AMT1                     0\n",
       "BILL_AMT2                     0\n",
       "BILL_AMT3                     0\n",
       "BILL_AMT4                     0\n",
       "BILL_AMT5                     0\n",
       "BILL_AMT6                     0\n",
       "PAY_AMT1                      0\n",
       "PAY_AMT2                      0\n",
       "PAY_AMT3                      0\n",
       "PAY_AMT4                      0\n",
       "PAY_AMT5                      0\n",
       "PAY_AMT6                      0\n",
       "default payment next month    0\n",
       "dtype: int64"
      ]
     },
     "execution_count": 5,
     "metadata": {},
     "output_type": "execute_result"
    }
   ],
   "source": [
    "data.isnull().sum()"
   ]
  },
  {
   "cell_type": "code",
   "execution_count": 6,
   "id": "38387f7d",
   "metadata": {
    "colab": {
     "base_uri": "https://localhost:8080/"
    },
    "executionInfo": {
     "elapsed": 36010,
     "status": "ok",
     "timestamp": 1693371141721,
     "user": {
      "displayName": "Alok Ranjan",
      "userId": "03075680414805425723"
     },
     "user_tz": -330
    },
    "id": "38387f7d",
    "outputId": "ca301e25-00c5-4a5b-a53c-7079100264bc"
   },
   "outputs": [
    {
     "name": "stdout",
     "output_type": "stream",
     "text": [
      "Requirement already satisfied: pandas-profiling in e:\\software\\lib\\site-packages (3.6.6)\n",
      "Requirement already satisfied: ydata-profiling in e:\\software\\lib\\site-packages (from pandas-profiling) (4.5.1)\n",
      "Requirement already satisfied: matplotlib<4,>=3.2 in e:\\software\\lib\\site-packages (from ydata-profiling->pandas-profiling) (3.5.2)\n",
      "Requirement already satisfied: imagehash==4.3.1 in e:\\software\\lib\\site-packages (from ydata-profiling->pandas-profiling) (4.3.1)\n",
      "Requirement already satisfied: scipy<1.12,>=1.4.1 in e:\\software\\lib\\site-packages (from ydata-profiling->pandas-profiling) (1.9.1)\n",
      "Requirement already satisfied: typeguard<3,>=2.13.2 in e:\\software\\lib\\site-packages (from ydata-profiling->pandas-profiling) (2.13.3)\n",
      "Requirement already satisfied: tqdm<5,>=4.48.2 in e:\\software\\lib\\site-packages (from ydata-profiling->pandas-profiling) (4.64.1)\n",
      "Requirement already satisfied: statsmodels<1,>=0.13.2 in e:\\software\\lib\\site-packages (from ydata-profiling->pandas-profiling) (0.13.2)\n",
      "Requirement already satisfied: multimethod<2,>=1.4 in e:\\software\\lib\\site-packages (from ydata-profiling->pandas-profiling) (1.10)\n",
      "Requirement already satisfied: visions[type_image_path]==0.7.5 in e:\\software\\lib\\site-packages (from ydata-profiling->pandas-profiling) (0.7.5)\n",
      "Requirement already satisfied: wordcloud>=1.9.1 in e:\\software\\lib\\site-packages (from ydata-profiling->pandas-profiling) (1.9.2)\n",
      "Requirement already satisfied: seaborn<0.13,>=0.10.1 in e:\\software\\lib\\site-packages (from ydata-profiling->pandas-profiling) (0.11.2)\n",
      "Requirement already satisfied: pandas!=1.4.0,<2.1,>1.1 in e:\\software\\lib\\site-packages (from ydata-profiling->pandas-profiling) (1.4.4)\n",
      "Requirement already satisfied: numpy<1.24,>=1.16.0 in e:\\software\\lib\\site-packages (from ydata-profiling->pandas-profiling) (1.21.5)\n",
      "Requirement already satisfied: requests<3,>=2.24.0 in e:\\software\\lib\\site-packages (from ydata-profiling->pandas-profiling) (2.28.1)\n",
      "Requirement already satisfied: htmlmin==0.1.12 in e:\\software\\lib\\site-packages (from ydata-profiling->pandas-profiling) (0.1.12)\n",
      "Requirement already satisfied: PyYAML<6.1,>=5.0.0 in e:\\software\\lib\\site-packages (from ydata-profiling->pandas-profiling) (6.0)\n",
      "Requirement already satisfied: phik<0.13,>=0.11.1 in e:\\software\\lib\\site-packages (from ydata-profiling->pandas-profiling) (0.12.3)\n",
      "Requirement already satisfied: dacite>=1.8 in e:\\software\\lib\\site-packages (from ydata-profiling->pandas-profiling) (1.8.1)\n",
      "Requirement already satisfied: pydantic<2,>=1.8.1 in e:\\software\\lib\\site-packages (from ydata-profiling->pandas-profiling) (1.10.13)\n",
      "Requirement already satisfied: jinja2<3.2,>=2.11.1 in e:\\software\\lib\\site-packages (from ydata-profiling->pandas-profiling) (2.11.3)\n",
      "Requirement already satisfied: PyWavelets in e:\\software\\lib\\site-packages (from imagehash==4.3.1->ydata-profiling->pandas-profiling) (1.3.0)\n",
      "Requirement already satisfied: pillow in e:\\software\\lib\\site-packages (from imagehash==4.3.1->ydata-profiling->pandas-profiling) (9.2.0)\n",
      "Requirement already satisfied: tangled-up-in-unicode>=0.0.4 in e:\\software\\lib\\site-packages (from visions[type_image_path]==0.7.5->ydata-profiling->pandas-profiling) (0.2.0)\n",
      "Requirement already satisfied: attrs>=19.3.0 in e:\\software\\lib\\site-packages (from visions[type_image_path]==0.7.5->ydata-profiling->pandas-profiling) (21.4.0)\n",
      "Requirement already satisfied: networkx>=2.4 in e:\\software\\lib\\site-packages (from visions[type_image_path]==0.7.5->ydata-profiling->pandas-profiling) (2.8.4)\n",
      "Requirement already satisfied: MarkupSafe>=0.23 in e:\\software\\lib\\site-packages (from jinja2<3.2,>=2.11.1->ydata-profiling->pandas-profiling) (2.0.1)\n",
      "Requirement already satisfied: kiwisolver>=1.0.1 in e:\\software\\lib\\site-packages (from matplotlib<4,>=3.2->ydata-profiling->pandas-profiling) (1.4.2)\n",
      "Requirement already satisfied: python-dateutil>=2.7 in e:\\software\\lib\\site-packages (from matplotlib<4,>=3.2->ydata-profiling->pandas-profiling) (2.8.2)\n",
      "Requirement already satisfied: pyparsing>=2.2.1 in e:\\software\\lib\\site-packages (from matplotlib<4,>=3.2->ydata-profiling->pandas-profiling) (3.0.9)\n",
      "Requirement already satisfied: cycler>=0.10 in e:\\software\\lib\\site-packages (from matplotlib<4,>=3.2->ydata-profiling->pandas-profiling) (0.11.0)\n",
      "Requirement already satisfied: packaging>=20.0 in e:\\software\\lib\\site-packages (from matplotlib<4,>=3.2->ydata-profiling->pandas-profiling) (21.3)\n",
      "Requirement already satisfied: fonttools>=4.22.0 in e:\\software\\lib\\site-packages (from matplotlib<4,>=3.2->ydata-profiling->pandas-profiling) (4.25.0)\n",
      "Requirement already satisfied: pytz>=2020.1 in e:\\software\\lib\\site-packages (from pandas!=1.4.0,<2.1,>1.1->ydata-profiling->pandas-profiling) (2022.1)\n",
      "Requirement already satisfied: joblib>=0.14.1 in e:\\software\\lib\\site-packages (from phik<0.13,>=0.11.1->ydata-profiling->pandas-profiling) (1.1.0)\n",
      "Requirement already satisfied: typing-extensions>=4.2.0 in e:\\software\\lib\\site-packages (from pydantic<2,>=1.8.1->ydata-profiling->pandas-profiling) (4.3.0)\n",
      "Requirement already satisfied: urllib3<1.27,>=1.21.1 in e:\\software\\lib\\site-packages (from requests<3,>=2.24.0->ydata-profiling->pandas-profiling) (1.26.11)\n",
      "Requirement already satisfied: charset-normalizer<3,>=2 in e:\\software\\lib\\site-packages (from requests<3,>=2.24.0->ydata-profiling->pandas-profiling) (2.0.4)\n",
      "Requirement already satisfied: certifi>=2017.4.17 in e:\\software\\lib\\site-packages (from requests<3,>=2.24.0->ydata-profiling->pandas-profiling) (2022.9.14)\n",
      "Requirement already satisfied: idna<4,>=2.5 in e:\\software\\lib\\site-packages (from requests<3,>=2.24.0->ydata-profiling->pandas-profiling) (3.3)\n",
      "Requirement already satisfied: patsy>=0.5.2 in e:\\software\\lib\\site-packages (from statsmodels<1,>=0.13.2->ydata-profiling->pandas-profiling) (0.5.2)\n",
      "Requirement already satisfied: colorama in e:\\software\\lib\\site-packages (from tqdm<5,>=4.48.2->ydata-profiling->pandas-profiling) (0.4.5)\n",
      "Requirement already satisfied: six in e:\\software\\lib\\site-packages (from patsy>=0.5.2->statsmodels<1,>=0.13.2->ydata-profiling->pandas-profiling) (1.16.0)\n"
     ]
    }
   ],
   "source": [
    "!pip install pandas-profiling"
   ]
  },
  {
   "cell_type": "code",
   "execution_count": 7,
   "id": "c902a8a9",
   "metadata": {
    "executionInfo": {
     "elapsed": 501,
     "status": "ok",
     "timestamp": 1693372258483,
     "user": {
      "displayName": "Alok Ranjan",
      "userId": "03075680414805425723"
     },
     "user_tz": -330
    },
    "id": "c902a8a9"
   },
   "outputs": [
    {
     "name": "stderr",
     "output_type": "stream",
     "text": [
      "C:\\Users\\USER\\AppData\\Local\\Temp\\ipykernel_7976\\2274191625.py:1: DeprecationWarning: `import pandas_profiling` is going to be deprecated by April 1st. Please use `import ydata_profiling` instead.\n",
      "  from pandas_profiling import ProfileReport\n"
     ]
    }
   ],
   "source": [
    "from pandas_profiling import ProfileReport"
   ]
  },
  {
   "cell_type": "code",
   "execution_count": 8,
   "id": "7ea72793",
   "metadata": {
    "executionInfo": {
     "elapsed": 455,
     "status": "ok",
     "timestamp": 1693371171578,
     "user": {
      "displayName": "Alok Ranjan",
      "userId": "03075680414805425723"
     },
     "user_tz": -330
    },
    "id": "7ea72793"
   },
   "outputs": [],
   "source": [
    "profile = ProfileReport(data, title=\"Pandas Profiling Report\")"
   ]
  },
  {
   "cell_type": "code",
   "execution_count": 9,
   "id": "ec12b359",
   "metadata": {
    "colab": {
     "base_uri": "https://localhost:8080/",
     "height": 185,
     "referenced_widgets": [
      "86f52ca0e9894d498fcea4111eb52e49",
      "4c2d88837b7c4dfe85c34dcdee35c45e",
      "503bb174e88d42aa94a2989bbd7517b2",
      "7bc64892e6174355a593279be1fd888b",
      "9f05e2351f11413189e55f4dbfa1de77",
      "1bd1a169693c4864a97f88ac3a846501",
      "1ed0d753f1fb45ebae2af4cf317a3782",
      "fbe8a251e7a0405bbb65c3ba2dec6a58",
      "662a29b521414711bf4f86b0706a8601",
      "056123d57dc34d2194a13a72eb53f6fe",
      "901cbbd77ffe4508bc2cabf19c025b09",
      "948821e2ee4a4785944b239ef92e0e30",
      "f0f03bc9bccb45e5bf03cd1547ea9c11",
      "ce072a445ef940b89ccdeb0713c7db7a",
      "431ddd8a6edc4b2a9285cad118140047",
      "0e288684e1394a6db30e916f437ea071",
      "c088340382e847dabb4fad3d252d9e3e",
      "a2442aabc41c41d8a7a67771495be922",
      "2a3a8c9adc8c458699cb24a58ed4e0af",
      "943e9ed2d1594679ad89d4bd51ece9a6",
      "705dade6f6ef49e2b9200e24e5c6ee97",
      "bcab110ebd39482ea8112d0b3fd83b2c",
      "5f14d737d25c49648c97de064661998f",
      "cb40915064104349800a71ad8cf893f0",
      "ae436571f9204629b934a95152fe63fb",
      "0a35937ff4354ab1a43e25eb322b2f2c",
      "d7009323ff3f43b7bbc161cd3bd4b3df",
      "ea8e383408a74e7e8ed892aed872a641",
      "654ebb5e3b6f456fa595f0ac5b66e989",
      "4c82e12cec694441bc2c521f9e9a55b0",
      "36a258a5779c4dbbb0b6b7c9de018a6a",
      "60afaca628bf4acc9456146f40403144",
      "772fce6314d548b190392066b06db447",
      "a5be64c552b24f6194747439a7bdad44"
     ]
    },
    "executionInfo": {
     "elapsed": 186686,
     "status": "ok",
     "timestamp": 1693371360862,
     "user": {
      "displayName": "Alok Ranjan",
      "userId": "03075680414805425723"
     },
     "user_tz": -330
    },
    "id": "ec12b359",
    "outputId": "88d31c47-2967-49f4-e8be-01be954cb06c"
   },
   "outputs": [
    {
     "data": {
      "application/vnd.jupyter.widget-view+json": {
       "model_id": "8a1b7c11d1524c05912bfb3c3ce136e0",
       "version_major": 2,
       "version_minor": 0
      },
      "text/plain": [
       "Summarize dataset:   0%|          | 0/5 [00:00<?, ?it/s]"
      ]
     },
     "metadata": {},
     "output_type": "display_data"
    },
    {
     "data": {
      "application/vnd.jupyter.widget-view+json": {
       "model_id": "68d18707a25b4323beaca343c0c65975",
       "version_major": 2,
       "version_minor": 0
      },
      "text/plain": [
       "Generate report structure:   0%|          | 0/1 [00:00<?, ?it/s]"
      ]
     },
     "metadata": {},
     "output_type": "display_data"
    },
    {
     "data": {
      "application/vnd.jupyter.widget-view+json": {
       "model_id": "",
       "version_major": 2,
       "version_minor": 0
      },
      "text/plain": [
       "Render widgets:   0%|          | 0/1 [00:00<?, ?it/s]"
      ]
     },
     "metadata": {},
     "output_type": "display_data"
    },
    {
     "data": {
      "application/vnd.jupyter.widget-view+json": {
       "model_id": "88a99cec8a784a0ba3e83d98ff150bf3",
       "version_major": 2,
       "version_minor": 0
      },
      "text/plain": [
       "VBox(children=(Tab(children=(Tab(children=(GridBox(children=(VBox(children=(GridspecLayout(children=(HTML(valu…"
      ]
     },
     "metadata": {},
     "output_type": "display_data"
    }
   ],
   "source": [
    "profile.to_widgets()"
   ]
  },
  {
   "cell_type": "code",
   "execution_count": 10,
   "id": "6eaa7f1c",
   "metadata": {
    "executionInfo": {
     "elapsed": 451,
     "status": "ok",
     "timestamp": 1693372242889,
     "user": {
      "displayName": "Alok Ranjan",
      "userId": "03075680414805425723"
     },
     "user_tz": -330
    },
    "id": "6eaa7f1c"
   },
   "outputs": [],
   "source": [
    "X=data.drop(labels=[\"default payment next month\"],axis=1)"
   ]
  },
  {
   "cell_type": "code",
   "execution_count": 11,
   "id": "225793c6",
   "metadata": {
    "id": "225793c6",
    "outputId": "e46cfc41-cc08-4def-e4d2-a25490263413"
   },
   "outputs": [
    {
     "data": {
      "text/html": [
       "<div>\n",
       "<style scoped>\n",
       "    .dataframe tbody tr th:only-of-type {\n",
       "        vertical-align: middle;\n",
       "    }\n",
       "\n",
       "    .dataframe tbody tr th {\n",
       "        vertical-align: top;\n",
       "    }\n",
       "\n",
       "    .dataframe thead th {\n",
       "        text-align: right;\n",
       "    }\n",
       "</style>\n",
       "<table border=\"1\" class=\"dataframe\">\n",
       "  <thead>\n",
       "    <tr style=\"text-align: right;\">\n",
       "      <th></th>\n",
       "      <th>LIMIT_BAL</th>\n",
       "      <th>SEX</th>\n",
       "      <th>EDUCATION</th>\n",
       "      <th>MARRIAGE</th>\n",
       "      <th>AGE</th>\n",
       "      <th>PAY_0</th>\n",
       "      <th>PAY_2</th>\n",
       "      <th>PAY_3</th>\n",
       "      <th>PAY_4</th>\n",
       "      <th>PAY_5</th>\n",
       "      <th>...</th>\n",
       "      <th>BILL_AMT3</th>\n",
       "      <th>BILL_AMT4</th>\n",
       "      <th>BILL_AMT5</th>\n",
       "      <th>BILL_AMT6</th>\n",
       "      <th>PAY_AMT1</th>\n",
       "      <th>PAY_AMT2</th>\n",
       "      <th>PAY_AMT3</th>\n",
       "      <th>PAY_AMT4</th>\n",
       "      <th>PAY_AMT5</th>\n",
       "      <th>PAY_AMT6</th>\n",
       "    </tr>\n",
       "  </thead>\n",
       "  <tbody>\n",
       "    <tr>\n",
       "      <th>0</th>\n",
       "      <td>50000</td>\n",
       "      <td>1</td>\n",
       "      <td>2</td>\n",
       "      <td>1</td>\n",
       "      <td>57</td>\n",
       "      <td>-1</td>\n",
       "      <td>0</td>\n",
       "      <td>-1</td>\n",
       "      <td>0</td>\n",
       "      <td>0</td>\n",
       "      <td>...</td>\n",
       "      <td>35835</td>\n",
       "      <td>20940</td>\n",
       "      <td>19146</td>\n",
       "      <td>19131</td>\n",
       "      <td>2000</td>\n",
       "      <td>36681</td>\n",
       "      <td>10000</td>\n",
       "      <td>9000</td>\n",
       "      <td>689</td>\n",
       "      <td>679</td>\n",
       "    </tr>\n",
       "    <tr>\n",
       "      <th>1</th>\n",
       "      <td>50000</td>\n",
       "      <td>1</td>\n",
       "      <td>1</td>\n",
       "      <td>2</td>\n",
       "      <td>37</td>\n",
       "      <td>0</td>\n",
       "      <td>0</td>\n",
       "      <td>0</td>\n",
       "      <td>0</td>\n",
       "      <td>0</td>\n",
       "      <td>...</td>\n",
       "      <td>57608</td>\n",
       "      <td>19394</td>\n",
       "      <td>19619</td>\n",
       "      <td>20024</td>\n",
       "      <td>2500</td>\n",
       "      <td>1815</td>\n",
       "      <td>657</td>\n",
       "      <td>1000</td>\n",
       "      <td>1000</td>\n",
       "      <td>800</td>\n",
       "    </tr>\n",
       "    <tr>\n",
       "      <th>2</th>\n",
       "      <td>500000</td>\n",
       "      <td>1</td>\n",
       "      <td>1</td>\n",
       "      <td>2</td>\n",
       "      <td>29</td>\n",
       "      <td>0</td>\n",
       "      <td>0</td>\n",
       "      <td>0</td>\n",
       "      <td>0</td>\n",
       "      <td>0</td>\n",
       "      <td>...</td>\n",
       "      <td>445007</td>\n",
       "      <td>542653</td>\n",
       "      <td>483003</td>\n",
       "      <td>473944</td>\n",
       "      <td>55000</td>\n",
       "      <td>40000</td>\n",
       "      <td>38000</td>\n",
       "      <td>20239</td>\n",
       "      <td>13750</td>\n",
       "      <td>13770</td>\n",
       "    </tr>\n",
       "    <tr>\n",
       "      <th>3</th>\n",
       "      <td>100000</td>\n",
       "      <td>2</td>\n",
       "      <td>2</td>\n",
       "      <td>2</td>\n",
       "      <td>23</td>\n",
       "      <td>0</td>\n",
       "      <td>-1</td>\n",
       "      <td>-1</td>\n",
       "      <td>0</td>\n",
       "      <td>0</td>\n",
       "      <td>...</td>\n",
       "      <td>601</td>\n",
       "      <td>221</td>\n",
       "      <td>-159</td>\n",
       "      <td>567</td>\n",
       "      <td>380</td>\n",
       "      <td>601</td>\n",
       "      <td>0</td>\n",
       "      <td>581</td>\n",
       "      <td>1687</td>\n",
       "      <td>1542</td>\n",
       "    </tr>\n",
       "    <tr>\n",
       "      <th>4</th>\n",
       "      <td>140000</td>\n",
       "      <td>2</td>\n",
       "      <td>3</td>\n",
       "      <td>1</td>\n",
       "      <td>28</td>\n",
       "      <td>0</td>\n",
       "      <td>0</td>\n",
       "      <td>2</td>\n",
       "      <td>0</td>\n",
       "      <td>0</td>\n",
       "      <td>...</td>\n",
       "      <td>12108</td>\n",
       "      <td>12211</td>\n",
       "      <td>11793</td>\n",
       "      <td>3719</td>\n",
       "      <td>3329</td>\n",
       "      <td>0</td>\n",
       "      <td>432</td>\n",
       "      <td>1000</td>\n",
       "      <td>1000</td>\n",
       "      <td>1000</td>\n",
       "    </tr>\n",
       "    <tr>\n",
       "      <th>...</th>\n",
       "      <td>...</td>\n",
       "      <td>...</td>\n",
       "      <td>...</td>\n",
       "      <td>...</td>\n",
       "      <td>...</td>\n",
       "      <td>...</td>\n",
       "      <td>...</td>\n",
       "      <td>...</td>\n",
       "      <td>...</td>\n",
       "      <td>...</td>\n",
       "      <td>...</td>\n",
       "      <td>...</td>\n",
       "      <td>...</td>\n",
       "      <td>...</td>\n",
       "      <td>...</td>\n",
       "      <td>...</td>\n",
       "      <td>...</td>\n",
       "      <td>...</td>\n",
       "      <td>...</td>\n",
       "      <td>...</td>\n",
       "      <td>...</td>\n",
       "    </tr>\n",
       "    <tr>\n",
       "      <th>996</th>\n",
       "      <td>100000</td>\n",
       "      <td>1</td>\n",
       "      <td>2</td>\n",
       "      <td>1</td>\n",
       "      <td>29</td>\n",
       "      <td>0</td>\n",
       "      <td>0</td>\n",
       "      <td>0</td>\n",
       "      <td>0</td>\n",
       "      <td>-1</td>\n",
       "      <td>...</td>\n",
       "      <td>67782</td>\n",
       "      <td>-2618</td>\n",
       "      <td>95748</td>\n",
       "      <td>101299</td>\n",
       "      <td>3320</td>\n",
       "      <td>5000</td>\n",
       "      <td>0</td>\n",
       "      <td>100000</td>\n",
       "      <td>7186</td>\n",
       "      <td>0</td>\n",
       "    </tr>\n",
       "    <tr>\n",
       "      <th>997</th>\n",
       "      <td>200000</td>\n",
       "      <td>2</td>\n",
       "      <td>2</td>\n",
       "      <td>1</td>\n",
       "      <td>28</td>\n",
       "      <td>0</td>\n",
       "      <td>0</td>\n",
       "      <td>0</td>\n",
       "      <td>0</td>\n",
       "      <td>0</td>\n",
       "      <td>...</td>\n",
       "      <td>8441</td>\n",
       "      <td>97041</td>\n",
       "      <td>103541</td>\n",
       "      <td>3632</td>\n",
       "      <td>5000</td>\n",
       "      <td>2000</td>\n",
       "      <td>89000</td>\n",
       "      <td>6500</td>\n",
       "      <td>91</td>\n",
       "      <td>1504</td>\n",
       "    </tr>\n",
       "    <tr>\n",
       "      <th>998</th>\n",
       "      <td>90000</td>\n",
       "      <td>2</td>\n",
       "      <td>2</td>\n",
       "      <td>1</td>\n",
       "      <td>40</td>\n",
       "      <td>-1</td>\n",
       "      <td>-1</td>\n",
       "      <td>-1</td>\n",
       "      <td>-1</td>\n",
       "      <td>-1</td>\n",
       "      <td>...</td>\n",
       "      <td>1114</td>\n",
       "      <td>657</td>\n",
       "      <td>1332</td>\n",
       "      <td>780</td>\n",
       "      <td>0</td>\n",
       "      <td>2806</td>\n",
       "      <td>2256</td>\n",
       "      <td>2274</td>\n",
       "      <td>780</td>\n",
       "      <td>0</td>\n",
       "    </tr>\n",
       "    <tr>\n",
       "      <th>999</th>\n",
       "      <td>360000</td>\n",
       "      <td>1</td>\n",
       "      <td>1</td>\n",
       "      <td>2</td>\n",
       "      <td>36</td>\n",
       "      <td>1</td>\n",
       "      <td>-2</td>\n",
       "      <td>-2</td>\n",
       "      <td>-2</td>\n",
       "      <td>-2</td>\n",
       "      <td>...</td>\n",
       "      <td>0</td>\n",
       "      <td>0</td>\n",
       "      <td>0</td>\n",
       "      <td>0</td>\n",
       "      <td>0</td>\n",
       "      <td>0</td>\n",
       "      <td>0</td>\n",
       "      <td>0</td>\n",
       "      <td>0</td>\n",
       "      <td>0</td>\n",
       "    </tr>\n",
       "    <tr>\n",
       "      <th>1000</th>\n",
       "      <td>150000</td>\n",
       "      <td>2</td>\n",
       "      <td>3</td>\n",
       "      <td>2</td>\n",
       "      <td>30</td>\n",
       "      <td>-2</td>\n",
       "      <td>-2</td>\n",
       "      <td>-2</td>\n",
       "      <td>-2</td>\n",
       "      <td>-2</td>\n",
       "      <td>...</td>\n",
       "      <td>3420</td>\n",
       "      <td>2527</td>\n",
       "      <td>0</td>\n",
       "      <td>0</td>\n",
       "      <td>9664</td>\n",
       "      <td>3420</td>\n",
       "      <td>2612</td>\n",
       "      <td>0</td>\n",
       "      <td>0</td>\n",
       "      <td>0</td>\n",
       "    </tr>\n",
       "  </tbody>\n",
       "</table>\n",
       "<p>1001 rows × 23 columns</p>\n",
       "</div>"
      ],
      "text/plain": [
       "      LIMIT_BAL  SEX  EDUCATION  MARRIAGE  AGE  PAY_0  PAY_2  PAY_3  PAY_4  \\\n",
       "0         50000    1          2         1   57     -1      0     -1      0   \n",
       "1         50000    1          1         2   37      0      0      0      0   \n",
       "2        500000    1          1         2   29      0      0      0      0   \n",
       "3        100000    2          2         2   23      0     -1     -1      0   \n",
       "4        140000    2          3         1   28      0      0      2      0   \n",
       "...         ...  ...        ...       ...  ...    ...    ...    ...    ...   \n",
       "996      100000    1          2         1   29      0      0      0      0   \n",
       "997      200000    2          2         1   28      0      0      0      0   \n",
       "998       90000    2          2         1   40     -1     -1     -1     -1   \n",
       "999      360000    1          1         2   36      1     -2     -2     -2   \n",
       "1000     150000    2          3         2   30     -2     -2     -2     -2   \n",
       "\n",
       "      PAY_5  ...  BILL_AMT3  BILL_AMT4  BILL_AMT5  BILL_AMT6  PAY_AMT1  \\\n",
       "0         0  ...      35835      20940      19146      19131      2000   \n",
       "1         0  ...      57608      19394      19619      20024      2500   \n",
       "2         0  ...     445007     542653     483003     473944     55000   \n",
       "3         0  ...        601        221       -159        567       380   \n",
       "4         0  ...      12108      12211      11793       3719      3329   \n",
       "...     ...  ...        ...        ...        ...        ...       ...   \n",
       "996      -1  ...      67782      -2618      95748     101299      3320   \n",
       "997       0  ...       8441      97041     103541       3632      5000   \n",
       "998      -1  ...       1114        657       1332        780         0   \n",
       "999      -2  ...          0          0          0          0         0   \n",
       "1000     -2  ...       3420       2527          0          0      9664   \n",
       "\n",
       "      PAY_AMT2  PAY_AMT3  PAY_AMT4  PAY_AMT5  PAY_AMT6  \n",
       "0        36681     10000      9000       689       679  \n",
       "1         1815       657      1000      1000       800  \n",
       "2        40000     38000     20239     13750     13770  \n",
       "3          601         0       581      1687      1542  \n",
       "4            0       432      1000      1000      1000  \n",
       "...        ...       ...       ...       ...       ...  \n",
       "996       5000         0    100000      7186         0  \n",
       "997       2000     89000      6500        91      1504  \n",
       "998       2806      2256      2274       780         0  \n",
       "999          0         0         0         0         0  \n",
       "1000      3420      2612         0         0         0  \n",
       "\n",
       "[1001 rows x 23 columns]"
      ]
     },
     "execution_count": 11,
     "metadata": {},
     "output_type": "execute_result"
    }
   ],
   "source": [
    "X"
   ]
  },
  {
   "cell_type": "code",
   "execution_count": 12,
   "id": "e327a47b",
   "metadata": {
    "id": "e327a47b"
   },
   "outputs": [],
   "source": [
    "y=data[\"default payment next month\"]"
   ]
  },
  {
   "cell_type": "code",
   "execution_count": 13,
   "id": "78e3058f",
   "metadata": {
    "id": "78e3058f",
    "outputId": "2e62d98b-82af-412e-d7a9-6a4010cecd5f"
   },
   "outputs": [
    {
     "data": {
      "text/plain": [
       "0       0\n",
       "1       0\n",
       "2       0\n",
       "3       0\n",
       "4       0\n",
       "       ..\n",
       "996     0\n",
       "997     0\n",
       "998     0\n",
       "999     1\n",
       "1000    1\n",
       "Name: default payment next month, Length: 1001, dtype: int64"
      ]
     },
     "execution_count": 13,
     "metadata": {},
     "output_type": "execute_result"
    }
   ],
   "source": [
    "y"
   ]
  },
  {
   "cell_type": "code",
   "execution_count": 14,
   "id": "5bda6ee5",
   "metadata": {
    "id": "5bda6ee5"
   },
   "outputs": [],
   "source": [
    "from sklearn.model_selection import train_test_split"
   ]
  },
  {
   "cell_type": "code",
   "execution_count": 15,
   "id": "29b84b79",
   "metadata": {
    "id": "29b84b79"
   },
   "outputs": [],
   "source": [
    "x_train, x_test, y_train, y_test=train_test_split(X,y,test_size=0.25,random_state=50)"
   ]
  },
  {
   "cell_type": "code",
   "execution_count": 16,
   "id": "e26d70ec",
   "metadata": {
    "id": "e26d70ec"
   },
   "outputs": [],
   "source": [
    "#preprocessing steps\n",
    "from sklearn.preprocessing import StandardScaler\n",
    "train_scaler=StandardScaler()\n",
    "test_scaler=StandardScaler()"
   ]
  },
  {
   "cell_type": "code",
   "execution_count": 17,
   "id": "a6c52cf1",
   "metadata": {
    "id": "a6c52cf1"
   },
   "outputs": [],
   "source": [
    "scaled_train_data=train_scaler.fit_transform(x_train)"
   ]
  },
  {
   "cell_type": "code",
   "execution_count": 18,
   "id": "3cc6bbe4",
   "metadata": {
    "id": "3cc6bbe4"
   },
   "outputs": [],
   "source": [
    "scaled_test_data=train_scaler.transform(x_test)"
   ]
  },
  {
   "cell_type": "code",
   "execution_count": 19,
   "id": "2533ab53",
   "metadata": {
    "id": "2533ab53",
    "outputId": "d559c739-a01b-490f-bed6-6c298c21c38a"
   },
   "outputs": [
    {
     "data": {
      "text/plain": [
       "GaussianNB()"
      ]
     },
     "execution_count": 19,
     "metadata": {},
     "output_type": "execute_result"
    }
   ],
   "source": [
    "from sklearn.naive_bayes import GaussianNB\n",
    "clf = GaussianNB()\n",
    "clf.fit(scaled_train_data,y_train)"
   ]
  },
  {
   "cell_type": "code",
   "execution_count": 20,
   "id": "db0b0f0e",
   "metadata": {
    "id": "db0b0f0e"
   },
   "outputs": [],
   "source": [
    "y_pred=clf.predict(scaled_test_data)"
   ]
  },
  {
   "cell_type": "code",
   "execution_count": 21,
   "id": "cee6a311",
   "metadata": {
    "id": "cee6a311"
   },
   "outputs": [],
   "source": [
    "from sklearn.metrics import accuracy_score"
   ]
  },
  {
   "cell_type": "code",
   "execution_count": 22,
   "id": "b34671c5",
   "metadata": {
    "id": "b34671c5",
    "outputId": "d38365ee-bf63-49a5-ad89-29e2bea49684"
   },
   "outputs": [
    {
     "data": {
      "text/plain": [
       "69.7211155378486"
      ]
     },
     "execution_count": 22,
     "metadata": {},
     "output_type": "execute_result"
    }
   ],
   "source": [
    "accuracy_score(y_test,y_pred)*100"
   ]
  },
  {
   "cell_type": "code",
   "execution_count": 23,
   "id": "0d410011",
   "metadata": {
    "id": "0d410011"
   },
   "outputs": [],
   "source": [
    "param_grid = {\"var_smoothing\": [1e-9,0.1, 0.001, 0.5,0.05,0.01,1e-8,1e-7,1e-6,1e-10,1e-11]}"
   ]
  },
  {
   "cell_type": "code",
   "execution_count": 24,
   "id": "52db5616",
   "metadata": {
    "id": "52db5616"
   },
   "outputs": [],
   "source": [
    "from sklearn.model_selection import GridSearchCV\n",
    "gs=GridSearchCV(clf,param_grid=param_grid,cv=5,verbose=3)"
   ]
  },
  {
   "cell_type": "code",
   "execution_count": 25,
   "id": "f7ffdf39",
   "metadata": {
    "id": "f7ffdf39",
    "outputId": "7c41fc52-fee3-4d22-c588-49254c15c160"
   },
   "outputs": [
    {
     "name": "stdout",
     "output_type": "stream",
     "text": [
      "Fitting 5 folds for each of 11 candidates, totalling 55 fits\n",
      "[CV 1/5] END ...............var_smoothing=1e-09;, score=0.713 total time=   0.0s\n",
      "[CV 2/5] END ...............var_smoothing=1e-09;, score=0.707 total time=   0.0s\n",
      "[CV 3/5] END ...............var_smoothing=1e-09;, score=0.580 total time=   0.0s\n",
      "[CV 4/5] END ...............var_smoothing=1e-09;, score=0.780 total time=   0.0s\n",
      "[CV 5/5] END ...............var_smoothing=1e-09;, score=0.487 total time=   0.0s\n",
      "[CV 1/5] END .................var_smoothing=0.1;, score=0.693 total time=   0.0s\n",
      "[CV 2/5] END .................var_smoothing=0.1;, score=0.773 total time=   0.0s\n",
      "[CV 3/5] END .................var_smoothing=0.1;, score=0.700 total time=   0.0s\n",
      "[CV 4/5] END .................var_smoothing=0.1;, score=0.780 total time=   0.0s\n",
      "[CV 5/5] END .................var_smoothing=0.1;, score=0.633 total time=   0.0s\n",
      "[CV 1/5] END ...............var_smoothing=0.001;, score=0.713 total time=   0.0s\n",
      "[CV 2/5] END ...............var_smoothing=0.001;, score=0.707 total time=   0.0s\n",
      "[CV 3/5] END ...............var_smoothing=0.001;, score=0.593 total time=   0.0s\n",
      "[CV 4/5] END ...............var_smoothing=0.001;, score=0.780 total time=   0.0s\n",
      "[CV 5/5] END ...............var_smoothing=0.001;, score=0.487 total time=   0.0s\n",
      "[CV 1/5] END .................var_smoothing=0.5;, score=0.740 total time=   0.0s\n",
      "[CV 2/5] END .................var_smoothing=0.5;, score=0.807 total time=   0.0s\n",
      "[CV 3/5] END .................var_smoothing=0.5;, score=0.767 total time=   0.0s\n",
      "[CV 4/5] END .................var_smoothing=0.5;, score=0.793 total time=   0.0s\n",
      "[CV 5/5] END .................var_smoothing=0.5;, score=0.773 total time=   0.0s\n",
      "[CV 1/5] END ................var_smoothing=0.05;, score=0.700 total time=   0.0s\n",
      "[CV 2/5] END ................var_smoothing=0.05;, score=0.747 total time=   0.0s\n",
      "[CV 3/5] END ................var_smoothing=0.05;, score=0.647 total time=   0.0s\n",
      "[CV 4/5] END ................var_smoothing=0.05;, score=0.787 total time=   0.0s\n",
      "[CV 5/5] END ................var_smoothing=0.05;, score=0.540 total time=   0.0s\n",
      "[CV 1/5] END ................var_smoothing=0.01;, score=0.720 total time=   0.0s\n",
      "[CV 2/5] END ................var_smoothing=0.01;, score=0.713 total time=   0.0s\n",
      "[CV 3/5] END ................var_smoothing=0.01;, score=0.607 total time=   0.0s\n",
      "[CV 4/5] END ................var_smoothing=0.01;, score=0.780 total time=   0.0s\n",
      "[CV 5/5] END ................var_smoothing=0.01;, score=0.500 total time=   0.0s\n",
      "[CV 1/5] END ...............var_smoothing=1e-08;, score=0.713 total time=   0.0s\n",
      "[CV 2/5] END ...............var_smoothing=1e-08;, score=0.707 total time=   0.0s\n",
      "[CV 3/5] END ...............var_smoothing=1e-08;, score=0.580 total time=   0.0s\n",
      "[CV 4/5] END ...............var_smoothing=1e-08;, score=0.780 total time=   0.0s\n",
      "[CV 5/5] END ...............var_smoothing=1e-08;, score=0.487 total time=   0.0s\n",
      "[CV 1/5] END ...............var_smoothing=1e-07;, score=0.713 total time=   0.0s\n",
      "[CV 2/5] END ...............var_smoothing=1e-07;, score=0.707 total time=   0.0s\n",
      "[CV 3/5] END ...............var_smoothing=1e-07;, score=0.580 total time=   0.0s\n",
      "[CV 4/5] END ...............var_smoothing=1e-07;, score=0.780 total time=   0.0s\n",
      "[CV 5/5] END ...............var_smoothing=1e-07;, score=0.487 total time=   0.0s\n",
      "[CV 1/5] END ...............var_smoothing=1e-06;, score=0.713 total time=   0.0s\n",
      "[CV 2/5] END ...............var_smoothing=1e-06;, score=0.707 total time=   0.0s\n",
      "[CV 3/5] END ...............var_smoothing=1e-06;, score=0.580 total time=   0.0s\n",
      "[CV 4/5] END ...............var_smoothing=1e-06;, score=0.780 total time=   0.0s\n",
      "[CV 5/5] END ...............var_smoothing=1e-06;, score=0.487 total time=   0.0s\n",
      "[CV 1/5] END ...............var_smoothing=1e-10;, score=0.713 total time=   0.0s\n",
      "[CV 2/5] END ...............var_smoothing=1e-10;, score=0.707 total time=   0.0s\n",
      "[CV 3/5] END ...............var_smoothing=1e-10;, score=0.580 total time=   0.0s\n",
      "[CV 4/5] END ...............var_smoothing=1e-10;, score=0.780 total time=   0.0s\n",
      "[CV 5/5] END ...............var_smoothing=1e-10;, score=0.487 total time=   0.0s\n",
      "[CV 1/5] END ...............var_smoothing=1e-11;, score=0.713 total time=   0.0s\n",
      "[CV 2/5] END ...............var_smoothing=1e-11;, score=0.707 total time=   0.0s\n",
      "[CV 3/5] END ...............var_smoothing=1e-11;, score=0.580 total time=   0.0s\n",
      "[CV 4/5] END ...............var_smoothing=1e-11;, score=0.780 total time=   0.0s\n",
      "[CV 5/5] END ...............var_smoothing=1e-11;, score=0.487 total time=   0.0s\n"
     ]
    },
    {
     "data": {
      "text/plain": [
       "GridSearchCV(cv=5, estimator=GaussianNB(),\n",
       "             param_grid={'var_smoothing': [1e-09, 0.1, 0.001, 0.5, 0.05, 0.01,\n",
       "                                           1e-08, 1e-07, 1e-06, 1e-10, 1e-11]},\n",
       "             verbose=3)"
      ]
     },
     "execution_count": 25,
     "metadata": {},
     "output_type": "execute_result"
    }
   ],
   "source": [
    "gs.fit(scaled_train_data,y_train)"
   ]
  },
  {
   "cell_type": "code",
   "execution_count": 26,
   "id": "18a5fbfb",
   "metadata": {
    "id": "18a5fbfb",
    "outputId": "967790ef-8da1-45be-eaa9-a387fea9e88f"
   },
   "outputs": [
    {
     "data": {
      "text/plain": [
       "{'mean_fit_time': array([0.00460176, 0.00399828, 0.00399909, 0.00419455, 0.00400143,\n",
       "        0.00499701, 0.00419922, 0.00445542, 0.00397749, 0.0049439 ,\n",
       "        0.00484843]),\n",
       " 'std_fit_time': array([1.20446743e-03, 6.03156597e-07, 6.14361702e-07, 4.01914763e-04,\n",
       "        2.10241391e-06, 1.54274315e-03, 4.00692237e-04, 5.30303177e-04,\n",
       "        5.83757136e-04, 1.16062417e-03, 1.17953065e-03]),\n",
       " 'mean_score_time': array([0.00239778, 0.00200071, 0.00200062, 0.00160441, 0.00199714,\n",
       "        0.00199862, 0.00200529, 0.00212297, 0.00218253, 0.00224586,\n",
       "        0.00202918]),\n",
       " 'std_score_time': array([7.94530307e-04, 6.84390073e-07, 6.64157308e-07, 4.92552995e-04,\n",
       "        2.09265788e-06, 2.43793927e-06, 8.35948715e-06, 6.67250924e-04,\n",
       "        3.78727426e-04, 5.23418034e-04, 6.32936947e-04]),\n",
       " 'param_var_smoothing': masked_array(data=[1e-09, 0.1, 0.001, 0.5, 0.05, 0.01, 1e-08, 1e-07,\n",
       "                    1e-06, 1e-10, 1e-11],\n",
       "              mask=[False, False, False, False, False, False, False, False,\n",
       "                    False, False, False],\n",
       "        fill_value='?',\n",
       "             dtype=object),\n",
       " 'params': [{'var_smoothing': 1e-09},\n",
       "  {'var_smoothing': 0.1},\n",
       "  {'var_smoothing': 0.001},\n",
       "  {'var_smoothing': 0.5},\n",
       "  {'var_smoothing': 0.05},\n",
       "  {'var_smoothing': 0.01},\n",
       "  {'var_smoothing': 1e-08},\n",
       "  {'var_smoothing': 1e-07},\n",
       "  {'var_smoothing': 1e-06},\n",
       "  {'var_smoothing': 1e-10},\n",
       "  {'var_smoothing': 1e-11}],\n",
       " 'split0_test_score': array([0.71333333, 0.69333333, 0.71333333, 0.74      , 0.7       ,\n",
       "        0.72      , 0.71333333, 0.71333333, 0.71333333, 0.71333333,\n",
       "        0.71333333]),\n",
       " 'split1_test_score': array([0.70666667, 0.77333333, 0.70666667, 0.80666667, 0.74666667,\n",
       "        0.71333333, 0.70666667, 0.70666667, 0.70666667, 0.70666667,\n",
       "        0.70666667]),\n",
       " 'split2_test_score': array([0.58      , 0.7       , 0.59333333, 0.76666667, 0.64666667,\n",
       "        0.60666667, 0.58      , 0.58      , 0.58      , 0.58      ,\n",
       "        0.58      ]),\n",
       " 'split3_test_score': array([0.78      , 0.78      , 0.78      , 0.79333333, 0.78666667,\n",
       "        0.78      , 0.78      , 0.78      , 0.78      , 0.78      ,\n",
       "        0.78      ]),\n",
       " 'split4_test_score': array([0.48666667, 0.63333333, 0.48666667, 0.77333333, 0.54      ,\n",
       "        0.5       , 0.48666667, 0.48666667, 0.48666667, 0.48666667,\n",
       "        0.48666667]),\n",
       " 'mean_test_score': array([0.65333333, 0.716     , 0.656     , 0.776     , 0.684     ,\n",
       "        0.664     , 0.65333333, 0.65333333, 0.65333333, 0.65333333,\n",
       "        0.65333333]),\n",
       " 'std_test_score': array([0.10549355, 0.05474791, 0.10376041, 0.02293953, 0.08585259,\n",
       "        0.09920573, 0.10549355, 0.10549355, 0.10549355, 0.10549355,\n",
       "        0.10549355]),\n",
       " 'rank_test_score': array([6, 2, 5, 1, 3, 4, 6, 6, 6, 6, 6])}"
      ]
     },
     "execution_count": 26,
     "metadata": {},
     "output_type": "execute_result"
    }
   ],
   "source": [
    "gs.cv_results_"
   ]
  },
  {
   "cell_type": "code",
   "execution_count": 27,
   "id": "93665b5b",
   "metadata": {
    "id": "93665b5b",
    "outputId": "d53b98ab-e260-4c25-c69e-796da30aa9f9"
   },
   "outputs": [
    {
     "data": {
      "text/plain": [
       "GaussianNB(var_smoothing=0.5)"
      ]
     },
     "execution_count": 27,
     "metadata": {},
     "output_type": "execute_result"
    }
   ],
   "source": [
    "gs.best_estimator_"
   ]
  },
  {
   "cell_type": "code",
   "execution_count": 28,
   "id": "26aea5a8",
   "metadata": {
    "id": "26aea5a8",
    "outputId": "29903d8a-446c-4085-c023-31a026cdbbca"
   },
   "outputs": [
    {
     "data": {
      "text/plain": [
       "80.0796812749004"
      ]
     },
     "execution_count": 28,
     "metadata": {},
     "output_type": "execute_result"
    }
   ],
   "source": [
    "clf2 = GaussianNB(var_smoothing=0.5)\n",
    "clf2.fit(scaled_train_data,y_train)\n",
    "y_pred2=clf2.predict(scaled_test_data)\n",
    "accuracy_score(y_test,y_pred2)*100"
   ]
  },
  {
   "cell_type": "code",
   "execution_count": 29,
   "id": "0ccec948",
   "metadata": {
    "id": "0ccec948"
   },
   "outputs": [
    {
     "name": "stdout",
     "output_type": "stream",
     "text": [
      "Object `xgboost` not found.\n",
      "Object `forst` not found.\n"
     ]
    }
   ],
   "source": [
    "xgboost?\n",
    "random forst?"
   ]
  },
  {
   "cell_type": "code",
   "execution_count": 30,
   "id": "2dc52fce",
   "metadata": {
    "id": "2dc52fce"
   },
   "outputs": [
    {
     "name": "stderr",
     "output_type": "stream",
     "text": [
      "E:\\Software\\lib\\site-packages\\xgboost\\compat.py:93: FutureWarning: pandas.Int64Index is deprecated and will be removed from pandas in a future version. Use pandas.Index with the appropriate dtype instead.\n",
      "  from pandas import MultiIndex, Int64Index\n"
     ]
    }
   ],
   "source": [
    "from xgboost import XGBClassifier"
   ]
  },
  {
   "cell_type": "code",
   "execution_count": 31,
   "id": "69848bc8",
   "metadata": {
    "id": "69848bc8"
   },
   "outputs": [],
   "source": [
    "xgb=XGBClassifier()"
   ]
  },
  {
   "cell_type": "code",
   "execution_count": 32,
   "id": "e87e9bb0",
   "metadata": {
    "id": "e87e9bb0",
    "outputId": "c751804c-e4dc-429e-c5a4-0f8517f59c51"
   },
   "outputs": [
    {
     "data": {
      "text/plain": [
       "XGBClassifier(base_score=0.5, booster='gbtree', colsample_bylevel=1,\n",
       "              colsample_bynode=1, colsample_bytree=1, gamma=0, gpu_id=-1,\n",
       "              importance_type='gain', interaction_constraints='',\n",
       "              learning_rate=0.300000012, max_delta_step=0, max_depth=6,\n",
       "              min_child_weight=1, missing=nan, monotone_constraints='()',\n",
       "              n_estimators=100, n_jobs=0, num_parallel_tree=1, random_state=0,\n",
       "              reg_alpha=0, reg_lambda=1, scale_pos_weight=1, subsample=1,\n",
       "              tree_method='exact', validate_parameters=1, verbosity=None)"
      ]
     },
     "execution_count": 32,
     "metadata": {},
     "output_type": "execute_result"
    }
   ],
   "source": [
    "xgb.fit(scaled_train_data,y_train)"
   ]
  },
  {
   "cell_type": "code",
   "execution_count": 33,
   "id": "77051615",
   "metadata": {
    "id": "77051615"
   },
   "outputs": [],
   "source": [
    "y_pred3=xgb.predict(scaled_test_data)"
   ]
  },
  {
   "cell_type": "code",
   "execution_count": 34,
   "id": "f284a9fd",
   "metadata": {
    "id": "f284a9fd",
    "outputId": "2261fd49-15bd-4539-d93d-5db4f1e51db6",
    "scrolled": true
   },
   "outputs": [
    {
     "data": {
      "text/plain": [
       "0.7689243027888446"
      ]
     },
     "execution_count": 34,
     "metadata": {},
     "output_type": "execute_result"
    }
   ],
   "source": [
    "accuracy_score(y_test,y_pred3)"
   ]
  },
  {
   "cell_type": "code",
   "execution_count": 35,
   "id": "804fe8b8",
   "metadata": {
    "id": "804fe8b8"
   },
   "outputs": [],
   "source": [
    "param_grid_xgboost = { \"n_estimators\": [50,100, 130],\n",
    "                        \"max_depth\": range(3,11,1),\n",
    "                      \"random_state\":[0,50,100]\n",
    "                     }\n",
    "\n",
    "# Creating an object of the Grid Search class\n",
    "grid= GridSearchCV(XGBClassifier(objective='binary:logistic'),param_grid_xgboost,verbose=3,cv=5,n_jobs=-1)"
   ]
  },
  {
   "cell_type": "code",
   "execution_count": 36,
   "id": "b1b9b4ac",
   "metadata": {
    "id": "b1b9b4ac",
    "outputId": "671532da-1668-4111-81f6-6fef2a6dc3c6"
   },
   "outputs": [
    {
     "name": "stdout",
     "output_type": "stream",
     "text": [
      "Fitting 5 folds for each of 72 candidates, totalling 360 fits\n"
     ]
    },
    {
     "data": {
      "text/plain": [
       "GridSearchCV(cv=5,\n",
       "             estimator=XGBClassifier(base_score=None, booster=None,\n",
       "                                     colsample_bylevel=None,\n",
       "                                     colsample_bynode=None,\n",
       "                                     colsample_bytree=None, gamma=None,\n",
       "                                     gpu_id=None, importance_type='gain',\n",
       "                                     interaction_constraints=None,\n",
       "                                     learning_rate=None, max_delta_step=None,\n",
       "                                     max_depth=None, min_child_weight=None,\n",
       "                                     missing=nan, monotone_constraints=None,\n",
       "                                     n_estimators=100, n_jobs=None,\n",
       "                                     num_parallel_tree=None, random_state=None,\n",
       "                                     reg_alpha=None, reg_lambda=None,\n",
       "                                     scale_pos_weight=None, subsample=None,\n",
       "                                     tree_method=None, validate_parameters=None,\n",
       "                                     verbosity=None),\n",
       "             n_jobs=-1,\n",
       "             param_grid={'max_depth': range(3, 11),\n",
       "                         'n_estimators': [50, 100, 130],\n",
       "                         'random_state': [0, 50, 100]},\n",
       "             verbose=3)"
      ]
     },
     "execution_count": 36,
     "metadata": {},
     "output_type": "execute_result"
    }
   ],
   "source": [
    "grid.fit(scaled_train_data,y_train)"
   ]
  },
  {
   "cell_type": "code",
   "execution_count": null,
   "id": "aef02961",
   "metadata": {
    "id": "aef02961",
    "outputId": "2a605408-982f-4771-f5cd-df173ef8e436"
   },
   "outputs": [
    {
     "data": {
      "text/plain": [
       "XGBClassifier(base_score=0.5, booster='gbtree', callbacks=None,\n",
       "              colsample_bylevel=1, colsample_bynode=1, colsample_bytree=1,\n",
       "              early_stopping_rounds=None, enable_categorical=False,\n",
       "              eval_metric=None, gamma=0, gpu_id=-1, grow_policy='depthwise',\n",
       "              importance_type=None, interaction_constraints='',\n",
       "              learning_rate=0.300000012, max_bin=256, max_cat_to_onehot=4,\n",
       "              max_delta_step=0, max_depth=4, max_leaves=0, min_child_weight=1,\n",
       "              missing=nan, monotone_constraints='()', n_estimators=100,\n",
       "              n_jobs=0, num_parallel_tree=1, predictor='auto', random_state=0,\n",
       "              reg_alpha=0, reg_lambda=1, ...)"
      ]
     },
     "execution_count": 73,
     "metadata": {},
     "output_type": "execute_result"
    }
   ],
   "source": [
    "grid.best_estimator_"
   ]
  },
  {
   "cell_type": "code",
   "execution_count": null,
   "id": "f1fb53af",
   "metadata": {
    "id": "f1fb53af",
    "outputId": "06dfada4-e19b-4eef-9aa3-779651784ed9"
   },
   "outputs": [
    {
     "data": {
      "text/plain": [
       "{'max_depth': 4, 'n_estimators': 100, 'random_state': 0}"
      ]
     },
     "execution_count": 74,
     "metadata": {},
     "output_type": "execute_result"
    }
   ],
   "source": [
    "grid.best_params_\n"
   ]
  },
  {
   "cell_type": "code",
   "execution_count": null,
   "id": "824bf037",
   "metadata": {
    "id": "824bf037"
   },
   "outputs": [],
   "source": [
    "xgb_new=XGBClassifier(max_depth=4, n_estimators=90, random_state=0)"
   ]
  },
  {
   "cell_type": "code",
   "execution_count": null,
   "id": "9e5541fc",
   "metadata": {
    "id": "9e5541fc"
   },
   "outputs": [],
   "source": [
    "y_pred4=xgb_new.fit(scaled_train_data,y_train).predict(scaled_test_data)"
   ]
  },
  {
   "cell_type": "code",
   "execution_count": null,
   "id": "7b0aa477",
   "metadata": {
    "id": "7b0aa477",
    "outputId": "e442b3da-1f98-4302-98cd-7e9a44b0190a"
   },
   "outputs": [
    {
     "data": {
      "text/plain": [
       "0.7848605577689243"
      ]
     },
     "execution_count": 91,
     "metadata": {},
     "output_type": "execute_result"
    }
   ],
   "source": [
    "accuracy_score(y_test,y_pred4)"
   ]
  },
  {
   "cell_type": "code",
   "execution_count": null,
   "id": "804490db",
   "metadata": {
    "id": "804490db"
   },
   "outputs": [],
   "source": []
  }
 ],
 "metadata": {
  "colab": {
   "provenance": []
  },
  "kernelspec": {
   "display_name": "Python 3 (ipykernel)",
   "language": "python",
   "name": "python3"
  },
  "language_info": {
   "codemirror_mode": {
    "name": "ipython",
    "version": 3
   },
   "file_extension": ".py",
   "mimetype": "text/x-python",
   "name": "python",
   "nbconvert_exporter": "python",
   "pygments_lexer": "ipython3",
   "version": "3.9.13"
  },
  "widgets": {
   "application/vnd.jupyter.widget-state+json": {
    "056123d57dc34d2194a13a72eb53f6fe": {
     "model_module": "@jupyter-widgets/base",
     "model_module_version": "1.2.0",
     "model_name": "LayoutModel",
     "state": {
      "_model_module": "@jupyter-widgets/base",
      "_model_module_version": "1.2.0",
      "_model_name": "LayoutModel",
      "_view_count": null,
      "_view_module": "@jupyter-widgets/base",
      "_view_module_version": "1.2.0",
      "_view_name": "LayoutView",
      "align_content": null,
      "align_items": null,
      "align_self": null,
      "border": null,
      "bottom": null,
      "display": null,
      "flex": null,
      "flex_flow": null,
      "grid_area": null,
      "grid_auto_columns": null,
      "grid_auto_flow": null,
      "grid_auto_rows": null,
      "grid_column": null,
      "grid_gap": null,
      "grid_row": null,
      "grid_template_areas": null,
      "grid_template_columns": null,
      "grid_template_rows": null,
      "height": null,
      "justify_content": null,
      "justify_items": null,
      "left": null,
      "margin": null,
      "max_height": null,
      "max_width": null,
      "min_height": null,
      "min_width": null,
      "object_fit": null,
      "object_position": null,
      "order": null,
      "overflow": null,
      "overflow_x": null,
      "overflow_y": null,
      "padding": null,
      "right": null,
      "top": null,
      "visibility": null,
      "width": null
     }
    },
    "0a35937ff4354ab1a43e25eb322b2f2c": {
     "model_module": "@jupyter-widgets/controls",
     "model_module_version": "1.5.0",
     "model_name": "HTMLModel",
     "state": {
      "_dom_classes": [],
      "_model_module": "@jupyter-widgets/controls",
      "_model_module_version": "1.5.0",
      "_model_name": "HTMLModel",
      "_view_count": null,
      "_view_module": "@jupyter-widgets/controls",
      "_view_module_version": "1.5.0",
      "_view_name": "HTMLView",
      "description": "",
      "description_tooltip": null,
      "layout": "IPY_MODEL_60afaca628bf4acc9456146f40403144",
      "placeholder": "​",
      "style": "IPY_MODEL_772fce6314d548b190392066b06db447",
      "value": " 0/1 [00:00&lt;?, ?it/s]"
     }
    },
    "0e288684e1394a6db30e916f437ea071": {
     "model_module": "@jupyter-widgets/base",
     "model_module_version": "1.2.0",
     "model_name": "LayoutModel",
     "state": {
      "_model_module": "@jupyter-widgets/base",
      "_model_module_version": "1.2.0",
      "_model_name": "LayoutModel",
      "_view_count": null,
      "_view_module": "@jupyter-widgets/base",
      "_view_module_version": "1.2.0",
      "_view_name": "LayoutView",
      "align_content": null,
      "align_items": null,
      "align_self": null,
      "border": null,
      "bottom": null,
      "display": null,
      "flex": null,
      "flex_flow": null,
      "grid_area": null,
      "grid_auto_columns": null,
      "grid_auto_flow": null,
      "grid_auto_rows": null,
      "grid_column": null,
      "grid_gap": null,
      "grid_row": null,
      "grid_template_areas": null,
      "grid_template_columns": null,
      "grid_template_rows": null,
      "height": null,
      "justify_content": null,
      "justify_items": null,
      "left": null,
      "margin": null,
      "max_height": null,
      "max_width": null,
      "min_height": null,
      "min_width": null,
      "object_fit": null,
      "object_position": null,
      "order": null,
      "overflow": null,
      "overflow_x": null,
      "overflow_y": null,
      "padding": null,
      "right": null,
      "top": null,
      "visibility": null,
      "width": null
     }
    },
    "1bd1a169693c4864a97f88ac3a846501": {
     "model_module": "@jupyter-widgets/base",
     "model_module_version": "1.2.0",
     "model_name": "LayoutModel",
     "state": {
      "_model_module": "@jupyter-widgets/base",
      "_model_module_version": "1.2.0",
      "_model_name": "LayoutModel",
      "_view_count": null,
      "_view_module": "@jupyter-widgets/base",
      "_view_module_version": "1.2.0",
      "_view_name": "LayoutView",
      "align_content": null,
      "align_items": null,
      "align_self": null,
      "border": null,
      "bottom": null,
      "display": null,
      "flex": null,
      "flex_flow": null,
      "grid_area": null,
      "grid_auto_columns": null,
      "grid_auto_flow": null,
      "grid_auto_rows": null,
      "grid_column": null,
      "grid_gap": null,
      "grid_row": null,
      "grid_template_areas": null,
      "grid_template_columns": null,
      "grid_template_rows": null,
      "height": null,
      "justify_content": null,
      "justify_items": null,
      "left": null,
      "margin": null,
      "max_height": null,
      "max_width": null,
      "min_height": null,
      "min_width": null,
      "object_fit": null,
      "object_position": null,
      "order": null,
      "overflow": null,
      "overflow_x": null,
      "overflow_y": null,
      "padding": null,
      "right": null,
      "top": null,
      "visibility": null,
      "width": null
     }
    },
    "1ed0d753f1fb45ebae2af4cf317a3782": {
     "model_module": "@jupyter-widgets/controls",
     "model_module_version": "1.5.0",
     "model_name": "DescriptionStyleModel",
     "state": {
      "_model_module": "@jupyter-widgets/controls",
      "_model_module_version": "1.5.0",
      "_model_name": "DescriptionStyleModel",
      "_view_count": null,
      "_view_module": "@jupyter-widgets/base",
      "_view_module_version": "1.2.0",
      "_view_name": "StyleView",
      "description_width": ""
     }
    },
    "2a3a8c9adc8c458699cb24a58ed4e0af": {
     "model_module": "@jupyter-widgets/base",
     "model_module_version": "1.2.0",
     "model_name": "LayoutModel",
     "state": {
      "_model_module": "@jupyter-widgets/base",
      "_model_module_version": "1.2.0",
      "_model_name": "LayoutModel",
      "_view_count": null,
      "_view_module": "@jupyter-widgets/base",
      "_view_module_version": "1.2.0",
      "_view_name": "LayoutView",
      "align_content": null,
      "align_items": null,
      "align_self": null,
      "border": null,
      "bottom": null,
      "display": null,
      "flex": null,
      "flex_flow": null,
      "grid_area": null,
      "grid_auto_columns": null,
      "grid_auto_flow": null,
      "grid_auto_rows": null,
      "grid_column": null,
      "grid_gap": null,
      "grid_row": null,
      "grid_template_areas": null,
      "grid_template_columns": null,
      "grid_template_rows": null,
      "height": null,
      "justify_content": null,
      "justify_items": null,
      "left": null,
      "margin": null,
      "max_height": null,
      "max_width": null,
      "min_height": null,
      "min_width": null,
      "object_fit": null,
      "object_position": null,
      "order": null,
      "overflow": null,
      "overflow_x": null,
      "overflow_y": null,
      "padding": null,
      "right": null,
      "top": null,
      "visibility": null,
      "width": null
     }
    },
    "36a258a5779c4dbbb0b6b7c9de018a6a": {
     "model_module": "@jupyter-widgets/controls",
     "model_module_version": "1.5.0",
     "model_name": "ProgressStyleModel",
     "state": {
      "_model_module": "@jupyter-widgets/controls",
      "_model_module_version": "1.5.0",
      "_model_name": "ProgressStyleModel",
      "_view_count": null,
      "_view_module": "@jupyter-widgets/base",
      "_view_module_version": "1.2.0",
      "_view_name": "StyleView",
      "bar_color": null,
      "description_width": ""
     }
    },
    "431ddd8a6edc4b2a9285cad118140047": {
     "model_module": "@jupyter-widgets/controls",
     "model_module_version": "1.5.0",
     "model_name": "HTMLModel",
     "state": {
      "_dom_classes": [],
      "_model_module": "@jupyter-widgets/controls",
      "_model_module_version": "1.5.0",
      "_model_name": "HTMLModel",
      "_view_count": null,
      "_view_module": "@jupyter-widgets/controls",
      "_view_module_version": "1.5.0",
      "_view_name": "HTMLView",
      "description": "",
      "description_tooltip": null,
      "layout": "IPY_MODEL_705dade6f6ef49e2b9200e24e5c6ee97",
      "placeholder": "​",
      "style": "IPY_MODEL_bcab110ebd39482ea8112d0b3fd83b2c",
      "value": " 1/1 [00:15&lt;00:00, 15.38s/it]"
     }
    },
    "4c2d88837b7c4dfe85c34dcdee35c45e": {
     "model_module": "@jupyter-widgets/controls",
     "model_module_version": "1.5.0",
     "model_name": "HTMLModel",
     "state": {
      "_dom_classes": [],
      "_model_module": "@jupyter-widgets/controls",
      "_model_module_version": "1.5.0",
      "_model_name": "HTMLModel",
      "_view_count": null,
      "_view_module": "@jupyter-widgets/controls",
      "_view_module_version": "1.5.0",
      "_view_name": "HTMLView",
      "description": "",
      "description_tooltip": null,
      "layout": "IPY_MODEL_1bd1a169693c4864a97f88ac3a846501",
      "placeholder": "​",
      "style": "IPY_MODEL_1ed0d753f1fb45ebae2af4cf317a3782",
      "value": "Summarize dataset: 100%"
     }
    },
    "4c82e12cec694441bc2c521f9e9a55b0": {
     "model_module": "@jupyter-widgets/base",
     "model_module_version": "1.2.0",
     "model_name": "LayoutModel",
     "state": {
      "_model_module": "@jupyter-widgets/base",
      "_model_module_version": "1.2.0",
      "_model_name": "LayoutModel",
      "_view_count": null,
      "_view_module": "@jupyter-widgets/base",
      "_view_module_version": "1.2.0",
      "_view_name": "LayoutView",
      "align_content": null,
      "align_items": null,
      "align_self": null,
      "border": null,
      "bottom": null,
      "display": null,
      "flex": null,
      "flex_flow": null,
      "grid_area": null,
      "grid_auto_columns": null,
      "grid_auto_flow": null,
      "grid_auto_rows": null,
      "grid_column": null,
      "grid_gap": null,
      "grid_row": null,
      "grid_template_areas": null,
      "grid_template_columns": null,
      "grid_template_rows": null,
      "height": null,
      "justify_content": null,
      "justify_items": null,
      "left": null,
      "margin": null,
      "max_height": null,
      "max_width": null,
      "min_height": null,
      "min_width": null,
      "object_fit": null,
      "object_position": null,
      "order": null,
      "overflow": null,
      "overflow_x": null,
      "overflow_y": null,
      "padding": null,
      "right": null,
      "top": null,
      "visibility": null,
      "width": null
     }
    },
    "503bb174e88d42aa94a2989bbd7517b2": {
     "model_module": "@jupyter-widgets/controls",
     "model_module_version": "1.5.0",
     "model_name": "FloatProgressModel",
     "state": {
      "_dom_classes": [],
      "_model_module": "@jupyter-widgets/controls",
      "_model_module_version": "1.5.0",
      "_model_name": "FloatProgressModel",
      "_view_count": null,
      "_view_module": "@jupyter-widgets/controls",
      "_view_module_version": "1.5.0",
      "_view_name": "ProgressView",
      "bar_style": "success",
      "description": "",
      "description_tooltip": null,
      "layout": "IPY_MODEL_fbe8a251e7a0405bbb65c3ba2dec6a58",
      "max": 5,
      "min": 0,
      "orientation": "horizontal",
      "style": "IPY_MODEL_662a29b521414711bf4f86b0706a8601",
      "value": 5
     }
    },
    "5f14d737d25c49648c97de064661998f": {
     "model_module": "@jupyter-widgets/controls",
     "model_module_version": "1.5.0",
     "model_name": "HBoxModel",
     "state": {
      "_dom_classes": [],
      "_model_module": "@jupyter-widgets/controls",
      "_model_module_version": "1.5.0",
      "_model_name": "HBoxModel",
      "_view_count": null,
      "_view_module": "@jupyter-widgets/controls",
      "_view_module_version": "1.5.0",
      "_view_name": "HBoxView",
      "box_style": "",
      "children": [
       "IPY_MODEL_cb40915064104349800a71ad8cf893f0",
       "IPY_MODEL_ae436571f9204629b934a95152fe63fb",
       "IPY_MODEL_0a35937ff4354ab1a43e25eb322b2f2c"
      ],
      "layout": "IPY_MODEL_d7009323ff3f43b7bbc161cd3bd4b3df"
     }
    },
    "60afaca628bf4acc9456146f40403144": {
     "model_module": "@jupyter-widgets/base",
     "model_module_version": "1.2.0",
     "model_name": "LayoutModel",
     "state": {
      "_model_module": "@jupyter-widgets/base",
      "_model_module_version": "1.2.0",
      "_model_name": "LayoutModel",
      "_view_count": null,
      "_view_module": "@jupyter-widgets/base",
      "_view_module_version": "1.2.0",
      "_view_name": "LayoutView",
      "align_content": null,
      "align_items": null,
      "align_self": null,
      "border": null,
      "bottom": null,
      "display": null,
      "flex": null,
      "flex_flow": null,
      "grid_area": null,
      "grid_auto_columns": null,
      "grid_auto_flow": null,
      "grid_auto_rows": null,
      "grid_column": null,
      "grid_gap": null,
      "grid_row": null,
      "grid_template_areas": null,
      "grid_template_columns": null,
      "grid_template_rows": null,
      "height": null,
      "justify_content": null,
      "justify_items": null,
      "left": null,
      "margin": null,
      "max_height": null,
      "max_width": null,
      "min_height": null,
      "min_width": null,
      "object_fit": null,
      "object_position": null,
      "order": null,
      "overflow": null,
      "overflow_x": null,
      "overflow_y": null,
      "padding": null,
      "right": null,
      "top": null,
      "visibility": null,
      "width": null
     }
    },
    "654ebb5e3b6f456fa595f0ac5b66e989": {
     "model_module": "@jupyter-widgets/controls",
     "model_module_version": "1.5.0",
     "model_name": "DescriptionStyleModel",
     "state": {
      "_model_module": "@jupyter-widgets/controls",
      "_model_module_version": "1.5.0",
      "_model_name": "DescriptionStyleModel",
      "_view_count": null,
      "_view_module": "@jupyter-widgets/base",
      "_view_module_version": "1.2.0",
      "_view_name": "StyleView",
      "description_width": ""
     }
    },
    "662a29b521414711bf4f86b0706a8601": {
     "model_module": "@jupyter-widgets/controls",
     "model_module_version": "1.5.0",
     "model_name": "ProgressStyleModel",
     "state": {
      "_model_module": "@jupyter-widgets/controls",
      "_model_module_version": "1.5.0",
      "_model_name": "ProgressStyleModel",
      "_view_count": null,
      "_view_module": "@jupyter-widgets/base",
      "_view_module_version": "1.2.0",
      "_view_name": "StyleView",
      "bar_color": null,
      "description_width": ""
     }
    },
    "705dade6f6ef49e2b9200e24e5c6ee97": {
     "model_module": "@jupyter-widgets/base",
     "model_module_version": "1.2.0",
     "model_name": "LayoutModel",
     "state": {
      "_model_module": "@jupyter-widgets/base",
      "_model_module_version": "1.2.0",
      "_model_name": "LayoutModel",
      "_view_count": null,
      "_view_module": "@jupyter-widgets/base",
      "_view_module_version": "1.2.0",
      "_view_name": "LayoutView",
      "align_content": null,
      "align_items": null,
      "align_self": null,
      "border": null,
      "bottom": null,
      "display": null,
      "flex": null,
      "flex_flow": null,
      "grid_area": null,
      "grid_auto_columns": null,
      "grid_auto_flow": null,
      "grid_auto_rows": null,
      "grid_column": null,
      "grid_gap": null,
      "grid_row": null,
      "grid_template_areas": null,
      "grid_template_columns": null,
      "grid_template_rows": null,
      "height": null,
      "justify_content": null,
      "justify_items": null,
      "left": null,
      "margin": null,
      "max_height": null,
      "max_width": null,
      "min_height": null,
      "min_width": null,
      "object_fit": null,
      "object_position": null,
      "order": null,
      "overflow": null,
      "overflow_x": null,
      "overflow_y": null,
      "padding": null,
      "right": null,
      "top": null,
      "visibility": null,
      "width": null
     }
    },
    "772fce6314d548b190392066b06db447": {
     "model_module": "@jupyter-widgets/controls",
     "model_module_version": "1.5.0",
     "model_name": "DescriptionStyleModel",
     "state": {
      "_model_module": "@jupyter-widgets/controls",
      "_model_module_version": "1.5.0",
      "_model_name": "DescriptionStyleModel",
      "_view_count": null,
      "_view_module": "@jupyter-widgets/base",
      "_view_module_version": "1.2.0",
      "_view_name": "StyleView",
      "description_width": ""
     }
    },
    "7bc64892e6174355a593279be1fd888b": {
     "model_module": "@jupyter-widgets/controls",
     "model_module_version": "1.5.0",
     "model_name": "HTMLModel",
     "state": {
      "_dom_classes": [],
      "_model_module": "@jupyter-widgets/controls",
      "_model_module_version": "1.5.0",
      "_model_name": "HTMLModel",
      "_view_count": null,
      "_view_module": "@jupyter-widgets/controls",
      "_view_module_version": "1.5.0",
      "_view_name": "HTMLView",
      "description": "",
      "description_tooltip": null,
      "layout": "IPY_MODEL_056123d57dc34d2194a13a72eb53f6fe",
      "placeholder": "​",
      "style": "IPY_MODEL_901cbbd77ffe4508bc2cabf19c025b09",
      "value": " 474/474 [02:08&lt;00:00,  2.53it/s, Completed]"
     }
    },
    "86f52ca0e9894d498fcea4111eb52e49": {
     "model_module": "@jupyter-widgets/controls",
     "model_module_version": "1.5.0",
     "model_name": "HBoxModel",
     "state": {
      "_dom_classes": [],
      "_model_module": "@jupyter-widgets/controls",
      "_model_module_version": "1.5.0",
      "_model_name": "HBoxModel",
      "_view_count": null,
      "_view_module": "@jupyter-widgets/controls",
      "_view_module_version": "1.5.0",
      "_view_name": "HBoxView",
      "box_style": "",
      "children": [
       "IPY_MODEL_4c2d88837b7c4dfe85c34dcdee35c45e",
       "IPY_MODEL_503bb174e88d42aa94a2989bbd7517b2",
       "IPY_MODEL_7bc64892e6174355a593279be1fd888b"
      ],
      "layout": "IPY_MODEL_9f05e2351f11413189e55f4dbfa1de77"
     }
    },
    "901cbbd77ffe4508bc2cabf19c025b09": {
     "model_module": "@jupyter-widgets/controls",
     "model_module_version": "1.5.0",
     "model_name": "DescriptionStyleModel",
     "state": {
      "_model_module": "@jupyter-widgets/controls",
      "_model_module_version": "1.5.0",
      "_model_name": "DescriptionStyleModel",
      "_view_count": null,
      "_view_module": "@jupyter-widgets/base",
      "_view_module_version": "1.2.0",
      "_view_name": "StyleView",
      "description_width": ""
     }
    },
    "943e9ed2d1594679ad89d4bd51ece9a6": {
     "model_module": "@jupyter-widgets/controls",
     "model_module_version": "1.5.0",
     "model_name": "ProgressStyleModel",
     "state": {
      "_model_module": "@jupyter-widgets/controls",
      "_model_module_version": "1.5.0",
      "_model_name": "ProgressStyleModel",
      "_view_count": null,
      "_view_module": "@jupyter-widgets/base",
      "_view_module_version": "1.2.0",
      "_view_name": "StyleView",
      "bar_color": null,
      "description_width": ""
     }
    },
    "948821e2ee4a4785944b239ef92e0e30": {
     "model_module": "@jupyter-widgets/controls",
     "model_module_version": "1.5.0",
     "model_name": "HBoxModel",
     "state": {
      "_dom_classes": [],
      "_model_module": "@jupyter-widgets/controls",
      "_model_module_version": "1.5.0",
      "_model_name": "HBoxModel",
      "_view_count": null,
      "_view_module": "@jupyter-widgets/controls",
      "_view_module_version": "1.5.0",
      "_view_name": "HBoxView",
      "box_style": "",
      "children": [
       "IPY_MODEL_f0f03bc9bccb45e5bf03cd1547ea9c11",
       "IPY_MODEL_ce072a445ef940b89ccdeb0713c7db7a",
       "IPY_MODEL_431ddd8a6edc4b2a9285cad118140047"
      ],
      "layout": "IPY_MODEL_0e288684e1394a6db30e916f437ea071"
     }
    },
    "9f05e2351f11413189e55f4dbfa1de77": {
     "model_module": "@jupyter-widgets/base",
     "model_module_version": "1.2.0",
     "model_name": "LayoutModel",
     "state": {
      "_model_module": "@jupyter-widgets/base",
      "_model_module_version": "1.2.0",
      "_model_name": "LayoutModel",
      "_view_count": null,
      "_view_module": "@jupyter-widgets/base",
      "_view_module_version": "1.2.0",
      "_view_name": "LayoutView",
      "align_content": null,
      "align_items": null,
      "align_self": null,
      "border": null,
      "bottom": null,
      "display": null,
      "flex": null,
      "flex_flow": null,
      "grid_area": null,
      "grid_auto_columns": null,
      "grid_auto_flow": null,
      "grid_auto_rows": null,
      "grid_column": null,
      "grid_gap": null,
      "grid_row": null,
      "grid_template_areas": null,
      "grid_template_columns": null,
      "grid_template_rows": null,
      "height": null,
      "justify_content": null,
      "justify_items": null,
      "left": null,
      "margin": null,
      "max_height": null,
      "max_width": null,
      "min_height": null,
      "min_width": null,
      "object_fit": null,
      "object_position": null,
      "order": null,
      "overflow": null,
      "overflow_x": null,
      "overflow_y": null,
      "padding": null,
      "right": null,
      "top": null,
      "visibility": null,
      "width": null
     }
    },
    "a2442aabc41c41d8a7a67771495be922": {
     "model_module": "@jupyter-widgets/controls",
     "model_module_version": "1.5.0",
     "model_name": "DescriptionStyleModel",
     "state": {
      "_model_module": "@jupyter-widgets/controls",
      "_model_module_version": "1.5.0",
      "_model_name": "DescriptionStyleModel",
      "_view_count": null,
      "_view_module": "@jupyter-widgets/base",
      "_view_module_version": "1.2.0",
      "_view_name": "StyleView",
      "description_width": ""
     }
    },
    "ae436571f9204629b934a95152fe63fb": {
     "model_module": "@jupyter-widgets/controls",
     "model_module_version": "1.5.0",
     "model_name": "FloatProgressModel",
     "state": {
      "_dom_classes": [],
      "_model_module": "@jupyter-widgets/controls",
      "_model_module_version": "1.5.0",
      "_model_name": "FloatProgressModel",
      "_view_count": null,
      "_view_module": "@jupyter-widgets/controls",
      "_view_module_version": "1.5.0",
      "_view_name": "ProgressView",
      "bar_style": "",
      "description": "",
      "description_tooltip": null,
      "layout": "IPY_MODEL_4c82e12cec694441bc2c521f9e9a55b0",
      "max": 1,
      "min": 0,
      "orientation": "horizontal",
      "style": "IPY_MODEL_36a258a5779c4dbbb0b6b7c9de018a6a",
      "value": 0
     }
    },
    "bcab110ebd39482ea8112d0b3fd83b2c": {
     "model_module": "@jupyter-widgets/controls",
     "model_module_version": "1.5.0",
     "model_name": "DescriptionStyleModel",
     "state": {
      "_model_module": "@jupyter-widgets/controls",
      "_model_module_version": "1.5.0",
      "_model_name": "DescriptionStyleModel",
      "_view_count": null,
      "_view_module": "@jupyter-widgets/base",
      "_view_module_version": "1.2.0",
      "_view_name": "StyleView",
      "description_width": ""
     }
    },
    "c088340382e847dabb4fad3d252d9e3e": {
     "model_module": "@jupyter-widgets/base",
     "model_module_version": "1.2.0",
     "model_name": "LayoutModel",
     "state": {
      "_model_module": "@jupyter-widgets/base",
      "_model_module_version": "1.2.0",
      "_model_name": "LayoutModel",
      "_view_count": null,
      "_view_module": "@jupyter-widgets/base",
      "_view_module_version": "1.2.0",
      "_view_name": "LayoutView",
      "align_content": null,
      "align_items": null,
      "align_self": null,
      "border": null,
      "bottom": null,
      "display": null,
      "flex": null,
      "flex_flow": null,
      "grid_area": null,
      "grid_auto_columns": null,
      "grid_auto_flow": null,
      "grid_auto_rows": null,
      "grid_column": null,
      "grid_gap": null,
      "grid_row": null,
      "grid_template_areas": null,
      "grid_template_columns": null,
      "grid_template_rows": null,
      "height": null,
      "justify_content": null,
      "justify_items": null,
      "left": null,
      "margin": null,
      "max_height": null,
      "max_width": null,
      "min_height": null,
      "min_width": null,
      "object_fit": null,
      "object_position": null,
      "order": null,
      "overflow": null,
      "overflow_x": null,
      "overflow_y": null,
      "padding": null,
      "right": null,
      "top": null,
      "visibility": null,
      "width": null
     }
    },
    "cb40915064104349800a71ad8cf893f0": {
     "model_module": "@jupyter-widgets/controls",
     "model_module_version": "1.5.0",
     "model_name": "HTMLModel",
     "state": {
      "_dom_classes": [],
      "_model_module": "@jupyter-widgets/controls",
      "_model_module_version": "1.5.0",
      "_model_name": "HTMLModel",
      "_view_count": null,
      "_view_module": "@jupyter-widgets/controls",
      "_view_module_version": "1.5.0",
      "_view_name": "HTMLView",
      "description": "",
      "description_tooltip": null,
      "layout": "IPY_MODEL_ea8e383408a74e7e8ed892aed872a641",
      "placeholder": "​",
      "style": "IPY_MODEL_654ebb5e3b6f456fa595f0ac5b66e989",
      "value": "Render widgets:   0%"
     }
    },
    "ce072a445ef940b89ccdeb0713c7db7a": {
     "model_module": "@jupyter-widgets/controls",
     "model_module_version": "1.5.0",
     "model_name": "FloatProgressModel",
     "state": {
      "_dom_classes": [],
      "_model_module": "@jupyter-widgets/controls",
      "_model_module_version": "1.5.0",
      "_model_name": "FloatProgressModel",
      "_view_count": null,
      "_view_module": "@jupyter-widgets/controls",
      "_view_module_version": "1.5.0",
      "_view_name": "ProgressView",
      "bar_style": "success",
      "description": "",
      "description_tooltip": null,
      "layout": "IPY_MODEL_2a3a8c9adc8c458699cb24a58ed4e0af",
      "max": 1,
      "min": 0,
      "orientation": "horizontal",
      "style": "IPY_MODEL_943e9ed2d1594679ad89d4bd51ece9a6",
      "value": 1
     }
    },
    "d7009323ff3f43b7bbc161cd3bd4b3df": {
     "model_module": "@jupyter-widgets/base",
     "model_module_version": "1.2.0",
     "model_name": "LayoutModel",
     "state": {
      "_model_module": "@jupyter-widgets/base",
      "_model_module_version": "1.2.0",
      "_model_name": "LayoutModel",
      "_view_count": null,
      "_view_module": "@jupyter-widgets/base",
      "_view_module_version": "1.2.0",
      "_view_name": "LayoutView",
      "align_content": null,
      "align_items": null,
      "align_self": null,
      "border": null,
      "bottom": null,
      "display": null,
      "flex": null,
      "flex_flow": null,
      "grid_area": null,
      "grid_auto_columns": null,
      "grid_auto_flow": null,
      "grid_auto_rows": null,
      "grid_column": null,
      "grid_gap": null,
      "grid_row": null,
      "grid_template_areas": null,
      "grid_template_columns": null,
      "grid_template_rows": null,
      "height": null,
      "justify_content": null,
      "justify_items": null,
      "left": null,
      "margin": null,
      "max_height": null,
      "max_width": null,
      "min_height": null,
      "min_width": null,
      "object_fit": null,
      "object_position": null,
      "order": null,
      "overflow": null,
      "overflow_x": null,
      "overflow_y": null,
      "padding": null,
      "right": null,
      "top": null,
      "visibility": null,
      "width": null
     }
    },
    "ea8e383408a74e7e8ed892aed872a641": {
     "model_module": "@jupyter-widgets/base",
     "model_module_version": "1.2.0",
     "model_name": "LayoutModel",
     "state": {
      "_model_module": "@jupyter-widgets/base",
      "_model_module_version": "1.2.0",
      "_model_name": "LayoutModel",
      "_view_count": null,
      "_view_module": "@jupyter-widgets/base",
      "_view_module_version": "1.2.0",
      "_view_name": "LayoutView",
      "align_content": null,
      "align_items": null,
      "align_self": null,
      "border": null,
      "bottom": null,
      "display": null,
      "flex": null,
      "flex_flow": null,
      "grid_area": null,
      "grid_auto_columns": null,
      "grid_auto_flow": null,
      "grid_auto_rows": null,
      "grid_column": null,
      "grid_gap": null,
      "grid_row": null,
      "grid_template_areas": null,
      "grid_template_columns": null,
      "grid_template_rows": null,
      "height": null,
      "justify_content": null,
      "justify_items": null,
      "left": null,
      "margin": null,
      "max_height": null,
      "max_width": null,
      "min_height": null,
      "min_width": null,
      "object_fit": null,
      "object_position": null,
      "order": null,
      "overflow": null,
      "overflow_x": null,
      "overflow_y": null,
      "padding": null,
      "right": null,
      "top": null,
      "visibility": null,
      "width": null
     }
    },
    "f0f03bc9bccb45e5bf03cd1547ea9c11": {
     "model_module": "@jupyter-widgets/controls",
     "model_module_version": "1.5.0",
     "model_name": "HTMLModel",
     "state": {
      "_dom_classes": [],
      "_model_module": "@jupyter-widgets/controls",
      "_model_module_version": "1.5.0",
      "_model_name": "HTMLModel",
      "_view_count": null,
      "_view_module": "@jupyter-widgets/controls",
      "_view_module_version": "1.5.0",
      "_view_name": "HTMLView",
      "description": "",
      "description_tooltip": null,
      "layout": "IPY_MODEL_c088340382e847dabb4fad3d252d9e3e",
      "placeholder": "​",
      "style": "IPY_MODEL_a2442aabc41c41d8a7a67771495be922",
      "value": "Generate report structure: 100%"
     }
    },
    "fbe8a251e7a0405bbb65c3ba2dec6a58": {
     "model_module": "@jupyter-widgets/base",
     "model_module_version": "1.2.0",
     "model_name": "LayoutModel",
     "state": {
      "_model_module": "@jupyter-widgets/base",
      "_model_module_version": "1.2.0",
      "_model_name": "LayoutModel",
      "_view_count": null,
      "_view_module": "@jupyter-widgets/base",
      "_view_module_version": "1.2.0",
      "_view_name": "LayoutView",
      "align_content": null,
      "align_items": null,
      "align_self": null,
      "border": null,
      "bottom": null,
      "display": null,
      "flex": null,
      "flex_flow": null,
      "grid_area": null,
      "grid_auto_columns": null,
      "grid_auto_flow": null,
      "grid_auto_rows": null,
      "grid_column": null,
      "grid_gap": null,
      "grid_row": null,
      "grid_template_areas": null,
      "grid_template_columns": null,
      "grid_template_rows": null,
      "height": null,
      "justify_content": null,
      "justify_items": null,
      "left": null,
      "margin": null,
      "max_height": null,
      "max_width": null,
      "min_height": null,
      "min_width": null,
      "object_fit": null,
      "object_position": null,
      "order": null,
      "overflow": null,
      "overflow_x": null,
      "overflow_y": null,
      "padding": null,
      "right": null,
      "top": null,
      "visibility": null,
      "width": null
     }
    }
   }
  }
 },
 "nbformat": 4,
 "nbformat_minor": 5
}
